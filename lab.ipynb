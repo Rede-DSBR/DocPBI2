{
 "cells": [
  {
   "cell_type": "code",
   "execution_count": 1,
   "metadata": {},
   "outputs": [],
   "source": [
    "import sys\n",
    "import os\n",
    "import re\n",
    "import yaml\n",
    "import json\n",
    "import pandas as pd\n",
    "import numpy as np\n",
    "from pyparsing import *\n",
    "\n",
    "from data_model import *"
   ]
  },
  {
   "cell_type": "markdown",
   "metadata": {},
   "source": [
    "# Sobre"
   ]
  },
  {
   "cell_type": "markdown",
   "metadata": {},
   "source": [
    "Notebook experimental sobre extrair dados do powerbi via formato pbip e tmdl"
   ]
  },
  {
   "cell_type": "markdown",
   "metadata": {},
   "source": [
    "# Referências\n",
    "\n",
    "* [TMDL model no powerbi](https://powerbi.microsoft.com/en-us/blog/tmdl-in-power-bi-desktop-developer-mode-preview/#:~:text=Before%20giving%20it%20a%20try,semantic%20model%20using%20TMDL%20format%E2%80%9D.)"
   ]
  },
  {
   "cell_type": "markdown",
   "metadata": {},
   "source": [
    "# Extrair dados do TMLD"
   ]
  },
  {
   "cell_type": "code",
   "execution_count": 2,
   "metadata": {},
   "outputs": [],
   "source": [
    "def read_file(file_path):\n",
    "    with open(file_path, 'r', encoding='utf-8') as file:\n",
    "        lines = file.readlines()\n",
    "    return lines"
   ]
  },
  {
   "cell_type": "code",
   "execution_count": null,
   "metadata": {},
   "outputs": [],
   "source": [
    "def parse_tmdl_groups(lines):\n",
    "    groups = []\n",
    "    current_group = []\n",
    "    current_calc = []\n",
    "    current_comments = []\n",
    "    for line in lines:\n",
    "        if not line.strip():\n",
    "            continue   # Ignora as linhas em branco\n",
    "        if line.startswith('///') and not current_group:\n",
    "            current_comments.append(line.strip().strip('/// '))\n",
    "            continue\n",
    "        elif line.startswith('///'):\n",
    "            current_group_temp = [current_group[0]] + [cur_line.removeprefix('\\t') for cur_line in current_group[1:]]\n",
    "            prop = ''.join(current_group_temp[1:])\n",
    "            if '\\t' in prop:\n",
    "                prop = parse_tmdl_groups([line + '\\n' for line in prop.split('\\n')])\n",
    "                current_calc = []\n",
    "            tmdl = TMDL.create(description=current_comments, \n",
    "                        element=current_group_temp[0], \n",
    "                        properties=prop,\n",
    "                        calculation=current_calc)\n",
    "            groups.append(tmdl)\n",
    "            current_group = []\n",
    "            current_calc = []\n",
    "            current_comments = [line.strip().strip('/// ')]\n",
    "            continue\n",
    "\n",
    "        if line[0] == '\\t'and not line[1] == '\\t':\n",
    "            current_group.append(line)\n",
    "        elif line[0] == '\\t' and line[1] == '\\t':\n",
    "            current_calc.append(line)\n",
    "            current_group.append(line)\n",
    "        else:\n",
    "            if current_group: \n",
    "                current_group_temp = [current_group[0]] + [cur_line.removeprefix('\\t') for cur_line in current_group[1:]]\n",
    "                prop = ''.join(current_group_temp[1:])\n",
    "                if '\\t' in prop:\n",
    "                    prop = parse_tmdl_groups([line + '\\n' for line in prop.split('\\n')])\n",
    "                    current_calc = []\n",
    "                tmdl = TMDL.create(description=current_comments, \n",
    "                                   element=current_group_temp[0], \n",
    "                                   properties=prop,\n",
    "                                   calculation=current_calc)\n",
    "                groups.append(tmdl)\n",
    "                current_group = []\n",
    "                current_comments = []\n",
    "                current_calc = []\n",
    "            current_group.append(line.strip())\n",
    "    current_group_temp = [current_group[0]] + [cur_line.removeprefix('\\t') for cur_line in current_group[1:]]\n",
    "    prop = ''.join(current_group_temp[1:])\n",
    "    if '\\t' in prop:\n",
    "        prop = parse_tmdl_groups([cur_line + '\\n' for cur_line in prop.split('\\n')])\n",
    "        current_calc = []\n",
    "    tmdl = TMDL.create(description=current_comments, \n",
    "                        element=current_group_temp[0], \n",
    "                        calculation=current_calc,\n",
    "                        properties=prop)\n",
    "    groups.append(tmdl)\n",
    "    return groups"
   ]
  },
  {
   "cell_type": "code",
   "execution_count": 211,
   "metadata": {},
   "outputs": [
    {
     "name": "stdout",
     "output_type": "stream",
     "text": [
      "here\n",
      "here\n",
      "here\n",
      "here\n",
      "here\n"
     ]
    }
   ],
   "source": [
    "file_content = 'pbip/PNP_Publicada_dev.SemanticModel/definition/tables/NaturezaDespesa.tmdl'\n",
    "file_content = 'pbip/PNP_Publicada_dev.SemanticModel/definition/tables/dimCurso.tmdl'\n",
    "file_content = 'pbip/PNP_Publicada_dev.SemanticModel/definition/model.tmdl'\n",
    "\n",
    "lines = read_file(file_content)\n",
    "parsed_data = parse_tmdl_groups(lines)\n"
   ]
  },
  {
   "cell_type": "code",
   "execution_count": 208,
   "metadata": {},
   "outputs": [
    {
     "data": {
      "text/plain": [
       "['/// @description A tabela dimCurso possui informações sobre os cursos oferecidos por uma instituição de ensino.\\n',\n",
       " '/// @author dsbr\\n',\n",
       " '/// @version 1\\n',\n",
       " '/// @date 03/11/2022\\t\\n',\n",
       " 'table dimCurso\\n',\n",
       " '\\tlineageTag: e6e8bb82-8093-4629-9276-4f9d480108e8\\n',\n",
       " '\\n',\n",
       " '\\t/// @description Corresponde à matrícula ponderada pelos fatores de: - Fator de Equiparação de carga horária; - Fator de Esforço de curso.\\n',\n",
       " '\\t/// @author dsbr\\n',\n",
       " '\\t/// @version 1\\n',\n",
       " '\\t/// @date 03/11/2022\\n',\n",
       " \"\\tmeasure 'Matrícula Equivalente' = ```\\n\",\n",
       " '\\t\\t\\t\\n',\n",
       " '\\t\\t\\t/*@description Corresponde à matrícula ponderada pelos fatores de: - Fator de Equiparação de carga horária; - Fator de Esforço de curso.\\n',\n",
       " '\\t\\t\\t@author dsbr\\n',\n",
       " '\\t\\t\\t@version 1\\n',\n",
       " '\\t\\t\\t@date 03/11/2022*/\\n',\n",
       " '\\t\\t\\t\\n',\n",
       " '\\t\\t\\t\\n',\n",
       " '\\t\\t\\tCALCULATE\\n',\n",
       " '\\t\\t\\t([Matrícula Equivalente Apresentada Geral], dimFinanciamento[nomeFonteFinanciamentoCorrigido] IN {\"Sem Programa Associado\", \"MedioTec\"})\\n',\n",
       " '\\t\\t\\t```\\n',\n",
       " '\\t\\tformatString: 0.000\\n',\n",
       " '\\t\\tlineageTag: d67dd037-af45-4c8c-b957-a21e69aedb2b\\n',\n",
       " '\\n',\n",
       " '\\t\\tchangedProperty = FormatString\\n',\n",
       " '\\n',\n",
       " '\\t/// @description Chave técnica do curso\\n',\n",
       " '\\tcolumn codCurso\\n',\n",
       " '\\t\\tdataType: int64\\n',\n",
       " '\\t\\tisHidden\\n',\n",
       " '\\t\\tformatString: 0\\n',\n",
       " '\\t\\tlineageTag: b60cedce-2e16-448a-aae8-9357ae50a21c\\n',\n",
       " '\\t\\tsummarizeBy: sum\\n',\n",
       " '\\t\\tsourceColumn: codCurso\\n',\n",
       " '\\n',\n",
       " '\\t\\tchangedProperty = IsHidden\\n',\n",
       " '\\n',\n",
       " '\\t\\tannotation SummarizationSetBy = Automatic\\n',\n",
       " '\\n',\n",
       " '\\t/// @description Código da unidade utilizado internamente na disseminação\\n',\n",
       " '\\tcolumn codUnidade\\n',\n",
       " '\\t\\tdataType: int64\\n',\n",
       " '\\t\\tisHidden\\n',\n",
       " '\\t\\tformatString: 0\\n',\n",
       " '\\t\\tlineageTag: 7171ce63-0635-40c4-83c1-6f200adfb676\\n',\n",
       " '\\t\\tsummarizeBy: sum\\n',\n",
       " '\\t\\tsourceColumn: codUnidade\\n',\n",
       " '\\n',\n",
       " '\\t\\tchangedProperty = IsHidden\\n',\n",
       " '\\n',\n",
       " '\\t\\tannotation SummarizationSetBy = Automatic\\n',\n",
       " '\\n',\n",
       " '\\t/// @description É o agrupamento de ações e das aplicações científicas às atividades humanas de mesma natureza, possuindo um núcleo de saberes comuns, embasados nas mesmas ciências e metodologias. São aplicados na classificação dos cursos da educação profissional, constante dos Catálogos Nacionais. Conforme definidos pelo CNE, são treze: - Ambiente e Saúde; - Controle e Processos industriais; - Desenvolvimento Educacional e Social; - Gestão e Negócios; - Informação e Comunicação; - Infraestrutura; - Militar; - Produção Alimentícia; - Produção Cultural e Design; - Produção Industrial; - Recursos Naturais; - Segurança; - Turismo, - Hospitalidade e lazer. Os Tipos de Curso que não contam com catálogos nacionais foram agregados, por similaridade, aos Eixos Tecnológicos existentes. Para efeito da Plataforma Nilo Peçanha, os cursos de Educação Básica, não profissionais, foram agregados ao Eixo Propedêutico.\\n',\n",
       " '\\t/// @author dsbr\\n',\n",
       " '\\t/// @version 1\\n',\n",
       " '\\t/// @date 03/11/2022\\n',\n",
       " '\\t/// @panel Faixa Etária; Indice de Verticalização; Dados Gerais; Curso, matrícula e oferta; Situação de matrícula; Classificação Racial, Renda e Sexo; Percentuais Legais;  Oferta de vagas noturnas; Relação inscritos/vagas; Taxa de evasão; Eficiência Acadêmica; Titulação Docente\\n',\n",
       " '\\tcolumn tipoEixoTecnologico\\n',\n",
       " '\\t\\tdataType: string\\n',\n",
       " '\\t\\tlineageTag: d565de8c-699b-497f-a414-fb7fcbc1a4df\\n',\n",
       " '\\t\\tsummarizeBy: none\\n',\n",
       " '\\t\\tsourceColumn: tipoEixoTecnologico\\n',\n",
       " '\\n',\n",
       " '\\t\\tannotation SummarizationSetBy = Automatic\\n',\n",
       " '\\n',\n",
       " '\\t/// @description Modo de desenvolvimento do curso quanto ao acompanhamento das atividades acadêmicas, podendo ser presencial ou a distância.\\n',\n",
       " '\\t/// @author dsbr\\n',\n",
       " '\\t/// @version 1\\n',\n",
       " '\\t/// @date 03/11/2022\\n',\n",
       " '\\t/// @panel Faixa Etária; Oferta de vagas noturnas; Dados Gerais; Curso, matrícula e oferta; Situação de matrícula; Classificação Racial, Renda e Sexo; Percentuais Legais; Relação inscritos/vagas; Taxa de evasão; Eficiência Acadêmica; Titulação Docente\\n',\n",
       " '\\tcolumn ModalidadeEnsino\\n',\n",
       " '\\t\\tdataType: string\\n',\n",
       " '\\t\\tlineageTag: 1a64db48-1f1c-41e6-915f-1582fb1553f7\\n',\n",
       " '\\t\\tsummarizeBy: none\\n',\n",
       " '\\t\\tsourceColumn: ModalidadeEnsino\\n',\n",
       " '\\n',\n",
       " '\\t\\tannotation SummarizationSetBy = Automatic\\n',\n",
       " '\\n',\n",
       " '\\t/// @description Nome do Conjunto de atividades educativas formais que constroem um perfil de formação, composto por componentes curriculares, agrupados em períodos letivos. Considera-se a diferenciação entre cursos de uma mesma Unidade de Ensino, com mesma denominação, e Tipo de Curso, Tipo de oferta, Modalidade de Ensino e Turno distintos.\\n',\n",
       " '\\t/// @author dsbr\\n',\n",
       " '\\t/// @version 1\\n',\n",
       " '\\t/// @date 03/11/2022\\n',\n",
       " '\\t/// @panel Faixa Etária; Técnicos-administrativos por Nível\\n',\n",
       " '\\tcolumn nomeCurso\\n',\n",
       " '\\t\\tdataType: string\\n',\n",
       " '\\t\\tlineageTag: a25e0cde-c793-4aef-b615-8028251af7b9\\n',\n",
       " '\\t\\tsummarizeBy: none\\n',\n",
       " '\\t\\tsourceColumn: nomeCurso\\n',\n",
       " '\\n',\n",
       " '\\t\\tannotation SummarizationSetBy = Automatic\\n',\n",
       " '\\n',\n",
       " '\\t/// @description Categorização própria da Plataforma Nilo Peçanha, criada para distinguir cursos de um mesmo Eixo Tecnológico em suas diferentes áreas de concentração.\\n',\n",
       " '\\t/// \\n',\n",
       " '\\t/// @author dsbr\\n',\n",
       " '\\t/// @version 1\\n',\n",
       " '\\t/// @date 03/11/2022\\n',\n",
       " '\\t/// @panel Faixa Etária; Dados Gerais; Curso, matrícula e oferta; Situação de matrícula; Classificação Racial, Renda e Sexo; Percentuais Legais;  Oferta de vagas noturnas; Relação inscritos/vagas; Taxa de evasão; Eficiência Acadêmica; Titulação Docente\\n',\n",
       " '\\tcolumn SubeixoTecnologico\\n',\n",
       " '\\t\\tdataType: string\\n',\n",
       " '\\t\\tlineageTag: e30e9720-b8d2-4be8-bf05-5b93283daf22\\n',\n",
       " '\\t\\tsummarizeBy: none\\n',\n",
       " '\\t\\tsourceColumn: SubeixoTecnologico\\n',\n",
       " '\\n',\n",
       " '\\t\\tannotation SummarizationSetBy = Automatic\\n',\n",
       " '\\n',\n",
       " '\\t/// @description Refere-se ao tipo dos cursos pertencentes às instituições da Rede Federal de EPCT, podendo ser: Bacharelado, Mestrado Profissional, Qualificação Profissional (FIC), Técnico, Especialização (Lato Sensu), Doutorado, Licenciatura, Mestrado, Tecnologia, Ensino Médio, Ensino Fundamental II, Ensino Fundamental I, Educação Infantil e Doutorado Profissional.\\n',\n",
       " '\\t/// \\n',\n",
       " '\\t/// @author dsbr\\n',\n",
       " '\\t/// @version 1\\n',\n",
       " '\\t/// @date 03/11/2022\\n',\n",
       " '\\t/// @panel Faixa Etária; Técnicos-administrativos por Nível; Dados Gerais; Curso, matrícula e oferta; Situação de matrícula; Classificação Racial, Renda e Sexo; Percentuais Legais;  Oferta de vagas noturnas; Relação inscritos/vagas; Taxa de evasão; Eficiência Acadêmica; Titulação Docente\\n',\n",
       " '\\tcolumn tipoCurso\\n',\n",
       " '\\t\\tdataType: string\\n',\n",
       " '\\t\\tlineageTag: a75c085c-9712-4a09-a940-66a7417cca6f\\n',\n",
       " '\\t\\tsummarizeBy: none\\n',\n",
       " '\\t\\tsourceColumn: tipoCurso\\n',\n",
       " '\\n',\n",
       " '\\t\\tannotation SummarizationSetBy = Automatic\\n',\n",
       " '\\n',\n",
       " '\\t/// @description Categorização transversal utilizada para diferenciar as formas de ofertas dos Cursos Técnicos e de Qualificação Profissional (FIC). Estão previstas as seguintes categorias: Integrado, Subsequente, Concomitante, PROEJA – Concomitante e PROEJA – Integrado.\\n',\n",
       " '\\t/// \\n',\n",
       " '\\t/// @author dsbr\\n',\n",
       " '\\t/// @version 1\\n',\n",
       " '\\t/// @date 03/11/2022\\n',\n",
       " '\\t/// @panel Faixa Etária\\n',\n",
       " '\\tcolumn tipoOferta\\n',\n",
       " '\\t\\tdataType: string\\n',\n",
       " '\\t\\tlineageTag: 9d171d7c-d76c-46e9-a437-5aef0ceb983b\\n',\n",
       " '\\t\\tsummarizeBy: none\\n',\n",
       " '\\t\\tsourceColumn: tipoOferta\\n',\n",
       " '\\n',\n",
       " '\\t\\tannotation SummarizationSetBy = Automatic\\n',\n",
       " '\\n',\n",
       " '\\t/// @description Período do dia ou da noite em que o aluno cursa a maior parte das aulas, podendo ser matutino, vespertino, noturno ou integral. Não se aplica aos cursos com Modalidade de Ensino a distância.\\n',\n",
       " '\\t/// \\n',\n",
       " '\\t/// @author dsbr\\n',\n",
       " '\\t/// @version 1\\n',\n",
       " '\\t/// @date 03/11/2022\\n',\n",
       " '\\t/// @panel Dados Gerais; Curso, matrícula e oferta; Situação de matrícula; Classificação Racial, Renda e Sexo; Faixa Etária; Percentuais Legais;  Oferta de vagas noturnas; Relação inscritos/vagas; Taxa de evasão; Eficiência Acadêmica; Titulação Docente\\n',\n",
       " '\\tcolumn turnoCurso\\n',\n",
       " '\\t\\tdataType: string\\n',\n",
       " '\\t\\tlineageTag: 838346a3-e7dc-4d83-b0f7-706d9482ebec\\n',\n",
       " '\\t\\tsummarizeBy: none\\n',\n",
       " '\\t\\tsourceColumn: turnoCurso\\n',\n",
       " '\\n',\n",
       " '\\t\\tannotation SummarizationSetBy = Automatic\\n',\n",
       " '\\n',\n",
       " '\\t/// @description Ajusta a carga horária do curso em função da quantidade de aulas práticas que, tecnicamente, demandem menor Relação Matrícula por Professor.\\n',\n",
       " '\\tcolumn fatorEsforcoCurso\\n',\n",
       " '\\t\\tdataType: double\\n',\n",
       " '\\t\\tlineageTag: d042b0b9-3a59-4dfc-a28e-f0b30c1ca7ef\\n',\n",
       " '\\t\\tsummarizeBy: sum\\n',\n",
       " '\\t\\tsourceColumn: fatorEsforcoCurso\\n',\n",
       " '\\n',\n",
       " '\\t\\tannotation SummarizationSetBy = Automatic\\n',\n",
       " '\\n',\n",
       " '\\t\\tannotation PBI_FormatHint = {\"isGeneralNumber\":true}\\n',\n",
       " '\\n',\n",
       " '\\t/// @description Carga horária mínima do curso de acordo com o art. 5º, §2º, da Portaria SETEC nº 51, de 21 de novembro de 2018.\\n',\n",
       " '\\tcolumn CHMinimaCurso\\n',\n",
       " '\\t\\tdataType: int64\\n',\n",
       " '\\t\\tformatString: 0\\n',\n",
       " '\\t\\tlineageTag: 91c2f9d2-c3a5-44b1-b376-98e5e55d7cf6\\n',\n",
       " '\\t\\tsummarizeBy: sum\\n',\n",
       " '\\t\\tsourceColumn: CHMinimaCurso\\n',\n",
       " '\\n',\n",
       " '\\t\\tannotation SummarizationSetBy = Automatic\\n',\n",
       " '\\n',\n",
       " '\\tcolumn skCursoMatricula\\n',\n",
       " '\\t\\tdataType: int64\\n',\n",
       " '\\t\\tformatString: 0\\n',\n",
       " '\\t\\tlineageTag: 275d1c37-5e9a-47e7-b392-ede4fff38847\\n',\n",
       " '\\t\\tsummarizeBy: none\\n',\n",
       " '\\t\\tsourceColumn: skCursoMatricula\\n',\n",
       " '\\n',\n",
       " '\\t\\tannotation SummarizationSetBy = Automatic\\n',\n",
       " '\\n',\n",
       " '\\t/// @description Carga horária do ciclo de matrícula declarada no SISTEC e validada na PNP pela instituição.\\n',\n",
       " '\\tcolumn CH\\n',\n",
       " '\\t\\tdataType: int64\\n',\n",
       " '\\t\\tformatString: 0\\n',\n",
       " '\\t\\tlineageTag: 347e19f1-4286-469f-a740-61a2a4c6439e\\n',\n",
       " '\\t\\tsummarizeBy: sum\\n',\n",
       " '\\t\\tsourceColumn: CH\\n',\n",
       " '\\n',\n",
       " '\\t\\tannotation SummarizationSetBy = Automatic\\n',\n",
       " '\\n',\n",
       " '\\t/// @description Carga horária mínima regulamentada do curso\\n',\n",
       " '\\tcolumn CHMR =\\n',\n",
       " '\\t\\t\\t\\n',\n",
       " '\\t\\t\\tSWITCH (\\n',\n",
       " '\\t\\t\\t    [tipoCurso],\\n',\n",
       " '\\t\\t\\t    \"Técnico\",\\n',\n",
       " '\\t\\t\\t        IF (\\n',\n",
       " '\\t\\t\\t            [tipoOferta] = \"PROEJA - Integrado\",\\n',\n",
       " '\\t\\t\\t            2400,\\n',\n",
       " '\\t\\t\\t            IF (\\n',\n",
       " '\\t\\t\\t                [tipoOferta] = \"Integrado\",\\n',\n",
       " '\\t\\t\\t                SWITCH (\\n',\n",
       " '\\t\\t\\t                    [CHMinimaCurso],\\n',\n",
       " '\\t\\t\\t                    800, 3000,\\n',\n",
       " '\\t\\t\\t                    1000, 3100,\\n',\n",
       " '\\t\\t\\t                    1200, 3200\\n',\n",
       " '\\t\\t\\t                ),\\n',\n",
       " '\\t\\t\\t                [CHMinimaCurso]\\n',\n",
       " '\\t\\t\\t            )\\n',\n",
       " '\\t\\t\\t        ),\\n',\n",
       " '\\t\\t\\t    \"Qualificação Profissional (FIC)\", [CH],\\n',\n",
       " '\\t\\t\\t    \"Ensino Fundamental I\", 4000,\\n',\n",
       " '\\t\\t\\t    \"Ensino Fundamental II\", 3200,\\n',\n",
       " '\\t\\t\\t    \"Educação Infantil\", 2400,\\n',\n",
       " '\\t\\t\\t    [CHMinimaCurso]\\n',\n",
       " '\\t\\t\\t)\\n',\n",
       " '\\t\\tdataType: int64\\n',\n",
       " '\\t\\tformatString: 0\\n',\n",
       " '\\t\\tdisplayFolder: Percentuais Legais\\n',\n",
       " '\\t\\tlineageTag: 8a1b00fc-d957-43cd-b399-4457e986c04a\\n',\n",
       " '\\t\\tsummarizeBy: sum\\n',\n",
       " '\\t\\tisDataTypeInferred\\n',\n",
       " '\\n',\n",
       " '\\t\\tannotation SummarizationSetBy = Automatic\\n',\n",
       " '\\n',\n",
       " '\\t/// @description Fator de Equiparação de Carga Horária - Permite a equiparação de cursos com durações distintas, sendo calculado pela divisão da carga horária anual do curso por oitocentas horas. A carga  horária anual do curso deve considerar a carga horária mínima  regulamentada e a duração do ciclo do curso, em anos, definido no projeto pedagógico\\n',\n",
       " '\\tcolumn FECH =\\n',\n",
       " '\\t\\t\\t\\n',\n",
       " '\\t\\t\\tIF (\\n',\n",
       " '\\t\\t\\t    [tipoCurso] = \"Qualificação Profissional (FIC)\",\\n',\n",
       " '\\t\\t\\t    [CHMR] / 800,\\n',\n",
       " '\\t\\t\\t    1\\n',\n",
       " '\\t\\t\\t)\\n',\n",
       " '\\t\\tdataType: double\\n',\n",
       " '\\t\\tdisplayFolder: Percentuais Legais\\n',\n",
       " '\\t\\tlineageTag: 39fc567a-4807-4331-b8a7-2c19b90914f0\\n',\n",
       " '\\t\\tsummarizeBy: sum\\n',\n",
       " '\\t\\tisDataTypeInferred\\n',\n",
       " '\\n',\n",
       " '\\t\\tannotation SummarizationSetBy = Automatic\\n',\n",
       " '\\n',\n",
       " '\\t\\tannotation PBI_FormatHint = {\"isGeneralNumber\":true}\\n',\n",
       " '\\n',\n",
       " '\\t/// @description Nível do curso. Agregação de tipo de curso (exemplo: básico, técnico, etc.)\\n',\n",
       " '\\tcolumn NivelCurso\\n',\n",
       " '\\t\\tdataType: string\\n',\n",
       " '\\t\\tlineageTag: 99a01132-a402-44b7-90e4-0d3d1b30d726\\n',\n",
       " '\\t\\tsummarizeBy: none\\n',\n",
       " '\\t\\tsourceColumn: NivelCurso\\n',\n",
       " '\\n',\n",
       " '\\t\\tannotation SummarizationSetBy = Automatic\\n',\n",
       " '\\n',\n",
       " '\\t/// @description Campo de ordenação do nível de curso\\n',\n",
       " '\\tcolumn OrdemNivelCurso\\n',\n",
       " '\\t\\tdataType: string\\n',\n",
       " '\\t\\tlineageTag: a0b433d7-d74e-48fb-a2f2-4fbc27472450\\n',\n",
       " '\\t\\tsummarizeBy: none\\n',\n",
       " '\\t\\tsourceColumn: OrdemNivelCurso\\n',\n",
       " '\\n',\n",
       " '\\t\\tannotation SummarizationSetBy = Automatic\\n',\n",
       " '\\n',\n",
       " '\\tpartition dimCurso-9656090d-95e9-402e-a238-20bb37c17853 = m\\n',\n",
       " '\\t\\tmode: import\\n',\n",
       " \"\\t\\tqueryGroup: 'Modelo PNP\\\\Dimensões'\\n\",\n",
       " '\\t\\tsource =\\n',\n",
       " '\\t\\t\\t\\tlet\\n',\n",
       " '\\t\\t\\t\\t\\tFonte = Csv.Document(Binary.Decompress(Web.Contents(AWS&\"dimCurso.csv.gz\"),Compression.GZip),[Delimiter=\";\", Columns=15, Encoding=1252, QuoteStyle=QuoteStyle.None]),\\n',\n",
       " '\\t\\t\\t\\t\\t#\"Cabeçalhos Promovidos\" = Table.PromoteHeaders(Fonte, [PromoteAllScalars=true]),\\n',\n",
       " '\\t\\t\\t\\t\\t#\"Tipo Alterado\" = Table.TransformColumnTypes(#\"Cabeçalhos Promovidos\",{{\"codCurso\", Int64.Type}, {\"codUnidade\", Int64.Type}, {\"tipoEixoTecnologico\", type text}, {\"ModalidadeEnsino\", type text}, {\"nomeCurso\", type text}, {\"SubeixoTecnologico\", type text}, {\"tipoCurso\", type text}, {\"tipoOferta\", type text}, {\"turnoCurso\", type text}, {\"CHMinimaCurso\", Int64.Type}, {\"fatorEsforcoCurso\", type number}, {\"skCursoMatricula\", Int64.Type}, {\"CH\", Int64.Type}})\\n',\n",
       " '\\t\\t\\t\\tin\\n',\n",
       " '\\t\\t\\t\\t\\t#\"Tipo Alterado\"\\n',\n",
       " '\\n',\n",
       " '\\tannotation PBI_ResultType = Table\\n',\n",
       " '\\n']"
      ]
     },
     "execution_count": 208,
     "metadata": {},
     "output_type": "execute_result"
    }
   ],
   "source": [
    "lines"
   ]
  },
  {
   "cell_type": "code",
   "execution_count": 194,
   "metadata": {},
   "outputs": [
    {
     "data": {
      "text/plain": [
       "[TMDL(description=['@description A tabela dimCurso possui informações sobre os cursos oferecidos por uma instituição de ensino.', '@author dsbr', '@version 1', '@date 03/11/2022'], element='table dimCurso', properties=[TMDL(description=[], element='lineageTag: e6e8bb82-8093-4629-9276-4f9d480108e8', properties='', calculation=[]), TMDL(description=['@description Corresponde à matrícula ponderada pelos fatores de: - Fator de Equiparação de carga horária; - Fator de Esforço de curso.', '@author dsbr', '@version 1', '@date 03/11/2022'], element=\"measure 'Matrícula Equivalente' = ```\", properties=[TMDL(description=[], element='\\t/*@description Corresponde à matrícula ponderada pelos fatores de: - Fator de Equiparação de carga horária; - Fator de Esforço de curso.\\n', properties='@author dsbr\\n@version 1\\n@date 03/11/2022*/\\nCALCULATE\\n([Matrícula Equivalente Apresentada Geral], dimFinanciamento[nomeFonteFinanciamentoCorrigido] IN {\"Sem Programa Associado\", \"MedioTec\"})\\n```\\n', calculation=[]), TMDL(description=[], element='formatString: 0.000', properties='', calculation=[]), TMDL(description=[], element='lineageTag: d67dd037-af45-4c8c-b957-a21e69aedb2b', properties='', calculation=[]), TMDL(description=[], element='changedProperty = FormatString', properties='', calculation=[])], calculation=[]), TMDL(description=['@description Chave técnica do curso'], element='column codCurso', properties='dataType: int64\\nisHidden\\nformatString: 0\\nlineageTag: b60cedce-2e16-448a-aae8-9357ae50a21c\\nsummarizeBy: sum\\nsourceColumn: codCurso\\nchangedProperty = IsHidden\\nannotation SummarizationSetBy = Automatic\\n', calculation=[]), TMDL(description=['@description Código da unidade utilizado internamente na disseminação'], element='column codUnidade', properties='dataType: int64\\nisHidden\\nformatString: 0\\nlineageTag: 7171ce63-0635-40c4-83c1-6f200adfb676\\nsummarizeBy: sum\\nsourceColumn: codUnidade\\nchangedProperty = IsHidden\\nannotation SummarizationSetBy = Automatic\\n', calculation=[]), TMDL(description=['@description É o agrupamento de ações e das aplicações científicas às atividades humanas de mesma natureza, possuindo um núcleo de saberes comuns, embasados nas mesmas ciências e metodologias. São aplicados na classificação dos cursos da educação profissional, constante dos Catálogos Nacionais. Conforme definidos pelo CNE, são treze: - Ambiente e Saúde; - Controle e Processos industriais; - Desenvolvimento Educacional e Social; - Gestão e Negócios; - Informação e Comunicação; - Infraestrutura; - Militar; - Produção Alimentícia; - Produção Cultural e Design; - Produção Industrial; - Recursos Naturais; - Segurança; - Turismo, - Hospitalidade e lazer. Os Tipos de Curso que não contam com catálogos nacionais foram agregados, por similaridade, aos Eixos Tecnológicos existentes. Para efeito da Plataforma Nilo Peçanha, os cursos de Educação Básica, não profissionais, foram agregados ao Eixo Propedêutico.', '@author dsbr', '@version 1', '@date 03/11/2022', '@panel Faixa Etária; Indice de Verticalização; Dados Gerais; Curso, matrícula e oferta; Situação de matrícula; Classificação Racial, Renda e Sexo; Percentuais Legais;  Oferta de vagas noturnas; Relação inscritos/vagas; Taxa de evasão; Eficiência Acadêmica; Titulação Docente'], element='column tipoEixoTecnologico', properties='dataType: string\\nlineageTag: d565de8c-699b-497f-a414-fb7fcbc1a4df\\nsummarizeBy: none\\nsourceColumn: tipoEixoTecnologico\\nannotation SummarizationSetBy = Automatic\\n', calculation=[]), TMDL(description=['@description Modo de desenvolvimento do curso quanto ao acompanhamento das atividades acadêmicas, podendo ser presencial ou a distância.', '@author dsbr', '@version 1', '@date 03/11/2022', '@panel Faixa Etária; Oferta de vagas noturnas; Dados Gerais; Curso, matrícula e oferta; Situação de matrícula; Classificação Racial, Renda e Sexo; Percentuais Legais; Relação inscritos/vagas; Taxa de evasão; Eficiência Acadêmica; Titulação Docente'], element='column ModalidadeEnsino', properties='dataType: string\\nlineageTag: 1a64db48-1f1c-41e6-915f-1582fb1553f7\\nsummarizeBy: none\\nsourceColumn: ModalidadeEnsino\\nannotation SummarizationSetBy = Automatic\\n', calculation=[]), TMDL(description=['@description Nome do Conjunto de atividades educativas formais que constroem um perfil de formação, composto por componentes curriculares, agrupados em períodos letivos. Considera-se a diferenciação entre cursos de uma mesma Unidade de Ensino, com mesma denominação, e Tipo de Curso, Tipo de oferta, Modalidade de Ensino e Turno distintos.', '@author dsbr', '@version 1', '@date 03/11/2022', '@panel Faixa Etária; Técnicos-administrativos por Nível'], element='column nomeCurso', properties='dataType: string\\nlineageTag: a25e0cde-c793-4aef-b615-8028251af7b9\\nsummarizeBy: none\\nsourceColumn: nomeCurso\\nannotation SummarizationSetBy = Automatic\\n', calculation=[]), TMDL(description=['@description Categorização própria da Plataforma Nilo Peçanha, criada para distinguir cursos de um mesmo Eixo Tecnológico em suas diferentes áreas de concentração.', '', '@author dsbr', '@version 1', '@date 03/11/2022', '@panel Faixa Etária; Dados Gerais; Curso, matrícula e oferta; Situação de matrícula; Classificação Racial, Renda e Sexo; Percentuais Legais;  Oferta de vagas noturnas; Relação inscritos/vagas; Taxa de evasão; Eficiência Acadêmica; Titulação Docente'], element='column SubeixoTecnologico', properties='dataType: string\\nlineageTag: e30e9720-b8d2-4be8-bf05-5b93283daf22\\nsummarizeBy: none\\nsourceColumn: SubeixoTecnologico\\nannotation SummarizationSetBy = Automatic\\n', calculation=[]), TMDL(description=['@description Refere-se ao tipo dos cursos pertencentes às instituições da Rede Federal de EPCT, podendo ser: Bacharelado, Mestrado Profissional, Qualificação Profissional (FIC), Técnico, Especialização (Lato Sensu), Doutorado, Licenciatura, Mestrado, Tecnologia, Ensino Médio, Ensino Fundamental II, Ensino Fundamental I, Educação Infantil e Doutorado Profissional.', '', '@author dsbr', '@version 1', '@date 03/11/2022', '@panel Faixa Etária; Técnicos-administrativos por Nível; Dados Gerais; Curso, matrícula e oferta; Situação de matrícula; Classificação Racial, Renda e Sexo; Percentuais Legais;  Oferta de vagas noturnas; Relação inscritos/vagas; Taxa de evasão; Eficiência Acadêmica; Titulação Docente'], element='column tipoCurso', properties='dataType: string\\nlineageTag: a75c085c-9712-4a09-a940-66a7417cca6f\\nsummarizeBy: none\\nsourceColumn: tipoCurso\\nannotation SummarizationSetBy = Automatic\\n', calculation=[]), TMDL(description=['@description Categorização transversal utilizada para diferenciar as formas de ofertas dos Cursos Técnicos e de Qualificação Profissional (FIC). Estão previstas as seguintes categorias: Integrado, Subsequente, Concomitante, PROEJA – Concomitante e PROEJA – Integrado.', '', '@author dsbr', '@version 1', '@date 03/11/2022', '@panel Faixa Etária'], element='column tipoOferta', properties='dataType: string\\nlineageTag: 9d171d7c-d76c-46e9-a437-5aef0ceb983b\\nsummarizeBy: none\\nsourceColumn: tipoOferta\\nannotation SummarizationSetBy = Automatic\\n', calculation=[]), TMDL(description=['@description Período do dia ou da noite em que o aluno cursa a maior parte das aulas, podendo ser matutino, vespertino, noturno ou integral. Não se aplica aos cursos com Modalidade de Ensino a distância.', '', '@author dsbr', '@version 1', '@date 03/11/2022', '@panel Dados Gerais; Curso, matrícula e oferta; Situação de matrícula; Classificação Racial, Renda e Sexo; Faixa Etária; Percentuais Legais;  Oferta de vagas noturnas; Relação inscritos/vagas; Taxa de evasão; Eficiência Acadêmica; Titulação Docente'], element='column turnoCurso', properties='dataType: string\\nlineageTag: 838346a3-e7dc-4d83-b0f7-706d9482ebec\\nsummarizeBy: none\\nsourceColumn: turnoCurso\\nannotation SummarizationSetBy = Automatic\\n', calculation=[]), TMDL(description=['@description Ajusta a carga horária do curso em função da quantidade de aulas práticas que, tecnicamente, demandem menor Relação Matrícula por Professor.'], element='column fatorEsforcoCurso', properties='dataType: double\\nlineageTag: d042b0b9-3a59-4dfc-a28e-f0b30c1ca7ef\\nsummarizeBy: sum\\nsourceColumn: fatorEsforcoCurso\\nannotation SummarizationSetBy = Automatic\\nannotation PBI_FormatHint = {\"isGeneralNumber\":true}\\n', calculation=[]), TMDL(description=['@description Carga horária mínima do curso de acordo com o art. 5º, §2º, da Portaria SETEC nº 51, de 21 de novembro de 2018.'], element='column CHMinimaCurso', properties='dataType: int64\\nformatString: 0\\nlineageTag: 91c2f9d2-c3a5-44b1-b376-98e5e55d7cf6\\nsummarizeBy: sum\\nsourceColumn: CHMinimaCurso\\nannotation SummarizationSetBy = Automatic\\n', calculation=[]), TMDL(description=[], element='column skCursoMatricula', properties='dataType: int64\\nformatString: 0\\nlineageTag: 275d1c37-5e9a-47e7-b392-ede4fff38847\\nsummarizeBy: none\\nsourceColumn: skCursoMatricula\\nannotation SummarizationSetBy = Automatic\\n', calculation=[]), TMDL(description=['@description Carga horária do ciclo de matrícula declarada no SISTEC e validada na PNP pela instituição.'], element='column CH', properties='dataType: int64\\nformatString: 0\\nlineageTag: 347e19f1-4286-469f-a740-61a2a4c6439e\\nsummarizeBy: sum\\nsourceColumn: CH\\nannotation SummarizationSetBy = Automatic\\n', calculation=[]), TMDL(description=['@description Carga horária mínima regulamentada do curso'], element='column CHMR =', properties=[TMDL(description=[], element='\\tSWITCH (\\n', properties='    [tipoCurso],\\n    \"Técnico\",\\n        IF (\\n            [tipoOferta] = \"PROEJA - Integrado\",\\n            2400,\\n            IF (\\n                [tipoOferta] = \"Integrado\",\\n                SWITCH (\\n                    [CHMinimaCurso],\\n                    800, 3000,\\n                    1000, 3100,\\n                    1200, 3200\\n                ),\\n                [CHMinimaCurso]\\n            )\\n        ),\\n    \"Qualificação Profissional (FIC)\", [CH],\\n    \"Ensino Fundamental I\", 4000,\\n    \"Ensino Fundamental II\", 3200,\\n    \"Educação Infantil\", 2400,\\n    [CHMinimaCurso]\\n)\\n', calculation=[]), TMDL(description=[], element='dataType: int64', properties='', calculation=[]), TMDL(description=[], element='formatString: 0', properties='', calculation=[]), TMDL(description=[], element='displayFolder: Percentuais Legais', properties='', calculation=[]), TMDL(description=[], element='lineageTag: 8a1b00fc-d957-43cd-b399-4457e986c04a', properties='', calculation=[]), TMDL(description=[], element='summarizeBy: sum', properties='', calculation=[]), TMDL(description=[], element='isDataTypeInferred', properties='', calculation=[]), TMDL(description=[], element='annotation SummarizationSetBy = Automatic', properties='', calculation=[])], calculation=[]), TMDL(description=['@description Fator de Equiparação de Carga Horária - Permite a equiparação de cursos com durações distintas, sendo calculado pela divisão da carga horária anual do curso por oitocentas horas. A carga  horária anual do curso deve considerar a carga horária mínima  regulamentada e a duração do ciclo do curso, em anos, definido no projeto pedagógico'], element='column FECH =', properties=[TMDL(description=[], element='\\tIF (\\n', properties='    [tipoCurso] = \"Qualificação Profissional (FIC)\",\\n    [CHMR] / 800,\\n    1\\n)\\n', calculation=[]), TMDL(description=[], element='dataType: double', properties='', calculation=[]), TMDL(description=[], element='displayFolder: Percentuais Legais', properties='', calculation=[]), TMDL(description=[], element='lineageTag: 39fc567a-4807-4331-b8a7-2c19b90914f0', properties='', calculation=[]), TMDL(description=[], element='summarizeBy: sum', properties='', calculation=[]), TMDL(description=[], element='isDataTypeInferred', properties='', calculation=[]), TMDL(description=[], element='annotation SummarizationSetBy = Automatic', properties='', calculation=[]), TMDL(description=[], element='annotation PBI_FormatHint = {\"isGeneralNumber\":true}', properties='', calculation=[])], calculation=[]), TMDL(description=['@description Nível do curso. Agregação de tipo de curso (exemplo: básico, técnico, etc.)'], element='column NivelCurso', properties='dataType: string\\nlineageTag: 99a01132-a402-44b7-90e4-0d3d1b30d726\\nsummarizeBy: none\\nsourceColumn: NivelCurso\\nannotation SummarizationSetBy = Automatic\\n', calculation=[]), TMDL(description=['@description Campo de ordenação do nível de curso'], element='column OrdemNivelCurso', properties='dataType: string\\nlineageTag: a0b433d7-d74e-48fb-a2f2-4fbc27472450\\nsummarizeBy: none\\nsourceColumn: OrdemNivelCurso\\nannotation SummarizationSetBy = Automatic\\n', calculation=[]), TMDL(description=[], element='partition dimCurso-9656090d-95e9-402e-a238-20bb37c17853 = m', properties=[TMDL(description=[], element='mode: import', properties='', calculation=[]), TMDL(description=[], element=\"queryGroup: 'Modelo PNP\\\\Dimensões'\", properties='', calculation=[]), TMDL(description=[], element='source =', properties=[TMDL(description=[], element='\\tlet\\n', properties=[TMDL(description=[], element='\\tFonte = Csv.Document(Binary.Decompress(Web.Contents(AWS&\"dimCurso.csv.gz\"),Compression.GZip),[Delimiter=\";\", Columns=15, Encoding=1252, QuoteStyle=QuoteStyle.None]),\\n', properties='#\"Cabeçalhos Promovidos\" = Table.PromoteHeaders(Fonte, [PromoteAllScalars=true]),\\n#\"Tipo Alterado\" = Table.TransformColumnTypes(#\"Cabeçalhos Promovidos\",{{\"codCurso\", Int64.Type}, {\"codUnidade\", Int64.Type}, {\"tipoEixoTecnologico\", type text}, {\"ModalidadeEnsino\", type text}, {\"nomeCurso\", type text}, {\"SubeixoTecnologico\", type text}, {\"tipoCurso\", type text}, {\"tipoOferta\", type text}, {\"turnoCurso\", type text}, {\"CHMinimaCurso\", Int64.Type}, {\"fatorEsforcoCurso\", type number}, {\"skCursoMatricula\", Int64.Type}, {\"CH\", Int64.Type}})\\n', calculation=[]), TMDL(description=[], element='in', properties='#\"Tipo Alterado\"\\n', calculation=[])], calculation=[])], calculation=[])], calculation=[]), TMDL(description=[], element='annotation PBI_ResultType = Table', properties='', calculation=[])], calculation=[])]"
      ]
     },
     "execution_count": 194,
     "metadata": {},
     "output_type": "execute_result"
    }
   ],
   "source": [
    "parsed_data"
   ]
  },
  {
   "cell_type": "code",
   "execution_count": 195,
   "metadata": {},
   "outputs": [
    {
     "data": {
      "text/plain": [
       "'table dimCurso'"
      ]
     },
     "execution_count": 195,
     "metadata": {},
     "output_type": "execute_result"
    }
   ],
   "source": [
    "parsed_data[0].element"
   ]
  },
  {
   "cell_type": "code",
   "execution_count": 196,
   "metadata": {},
   "outputs": [
    {
     "data": {
      "text/plain": [
       "[TMDL(description=[], element='lineageTag: e6e8bb82-8093-4629-9276-4f9d480108e8', properties='', calculation=[]),\n",
       " TMDL(description=['@description Corresponde à matrícula ponderada pelos fatores de: - Fator de Equiparação de carga horária; - Fator de Esforço de curso.', '@author dsbr', '@version 1', '@date 03/11/2022'], element=\"measure 'Matrícula Equivalente' = ```\", properties=[TMDL(description=[], element='\\t/*@description Corresponde à matrícula ponderada pelos fatores de: - Fator de Equiparação de carga horária; - Fator de Esforço de curso.\\n', properties='@author dsbr\\n@version 1\\n@date 03/11/2022*/\\nCALCULATE\\n([Matrícula Equivalente Apresentada Geral], dimFinanciamento[nomeFonteFinanciamentoCorrigido] IN {\"Sem Programa Associado\", \"MedioTec\"})\\n```\\n', calculation=[]), TMDL(description=[], element='formatString: 0.000', properties='', calculation=[]), TMDL(description=[], element='lineageTag: d67dd037-af45-4c8c-b957-a21e69aedb2b', properties='', calculation=[]), TMDL(description=[], element='changedProperty = FormatString', properties='', calculation=[])], calculation=[]),\n",
       " TMDL(description=['@description Chave técnica do curso'], element='column codCurso', properties='dataType: int64\\nisHidden\\nformatString: 0\\nlineageTag: b60cedce-2e16-448a-aae8-9357ae50a21c\\nsummarizeBy: sum\\nsourceColumn: codCurso\\nchangedProperty = IsHidden\\nannotation SummarizationSetBy = Automatic\\n', calculation=[]),\n",
       " TMDL(description=['@description Código da unidade utilizado internamente na disseminação'], element='column codUnidade', properties='dataType: int64\\nisHidden\\nformatString: 0\\nlineageTag: 7171ce63-0635-40c4-83c1-6f200adfb676\\nsummarizeBy: sum\\nsourceColumn: codUnidade\\nchangedProperty = IsHidden\\nannotation SummarizationSetBy = Automatic\\n', calculation=[]),\n",
       " TMDL(description=['@description É o agrupamento de ações e das aplicações científicas às atividades humanas de mesma natureza, possuindo um núcleo de saberes comuns, embasados nas mesmas ciências e metodologias. São aplicados na classificação dos cursos da educação profissional, constante dos Catálogos Nacionais. Conforme definidos pelo CNE, são treze: - Ambiente e Saúde; - Controle e Processos industriais; - Desenvolvimento Educacional e Social; - Gestão e Negócios; - Informação e Comunicação; - Infraestrutura; - Militar; - Produção Alimentícia; - Produção Cultural e Design; - Produção Industrial; - Recursos Naturais; - Segurança; - Turismo, - Hospitalidade e lazer. Os Tipos de Curso que não contam com catálogos nacionais foram agregados, por similaridade, aos Eixos Tecnológicos existentes. Para efeito da Plataforma Nilo Peçanha, os cursos de Educação Básica, não profissionais, foram agregados ao Eixo Propedêutico.', '@author dsbr', '@version 1', '@date 03/11/2022', '@panel Faixa Etária; Indice de Verticalização; Dados Gerais; Curso, matrícula e oferta; Situação de matrícula; Classificação Racial, Renda e Sexo; Percentuais Legais;  Oferta de vagas noturnas; Relação inscritos/vagas; Taxa de evasão; Eficiência Acadêmica; Titulação Docente'], element='column tipoEixoTecnologico', properties='dataType: string\\nlineageTag: d565de8c-699b-497f-a414-fb7fcbc1a4df\\nsummarizeBy: none\\nsourceColumn: tipoEixoTecnologico\\nannotation SummarizationSetBy = Automatic\\n', calculation=[]),\n",
       " TMDL(description=['@description Modo de desenvolvimento do curso quanto ao acompanhamento das atividades acadêmicas, podendo ser presencial ou a distância.', '@author dsbr', '@version 1', '@date 03/11/2022', '@panel Faixa Etária; Oferta de vagas noturnas; Dados Gerais; Curso, matrícula e oferta; Situação de matrícula; Classificação Racial, Renda e Sexo; Percentuais Legais; Relação inscritos/vagas; Taxa de evasão; Eficiência Acadêmica; Titulação Docente'], element='column ModalidadeEnsino', properties='dataType: string\\nlineageTag: 1a64db48-1f1c-41e6-915f-1582fb1553f7\\nsummarizeBy: none\\nsourceColumn: ModalidadeEnsino\\nannotation SummarizationSetBy = Automatic\\n', calculation=[]),\n",
       " TMDL(description=['@description Nome do Conjunto de atividades educativas formais que constroem um perfil de formação, composto por componentes curriculares, agrupados em períodos letivos. Considera-se a diferenciação entre cursos de uma mesma Unidade de Ensino, com mesma denominação, e Tipo de Curso, Tipo de oferta, Modalidade de Ensino e Turno distintos.', '@author dsbr', '@version 1', '@date 03/11/2022', '@panel Faixa Etária; Técnicos-administrativos por Nível'], element='column nomeCurso', properties='dataType: string\\nlineageTag: a25e0cde-c793-4aef-b615-8028251af7b9\\nsummarizeBy: none\\nsourceColumn: nomeCurso\\nannotation SummarizationSetBy = Automatic\\n', calculation=[]),\n",
       " TMDL(description=['@description Categorização própria da Plataforma Nilo Peçanha, criada para distinguir cursos de um mesmo Eixo Tecnológico em suas diferentes áreas de concentração.', '', '@author dsbr', '@version 1', '@date 03/11/2022', '@panel Faixa Etária; Dados Gerais; Curso, matrícula e oferta; Situação de matrícula; Classificação Racial, Renda e Sexo; Percentuais Legais;  Oferta de vagas noturnas; Relação inscritos/vagas; Taxa de evasão; Eficiência Acadêmica; Titulação Docente'], element='column SubeixoTecnologico', properties='dataType: string\\nlineageTag: e30e9720-b8d2-4be8-bf05-5b93283daf22\\nsummarizeBy: none\\nsourceColumn: SubeixoTecnologico\\nannotation SummarizationSetBy = Automatic\\n', calculation=[]),\n",
       " TMDL(description=['@description Refere-se ao tipo dos cursos pertencentes às instituições da Rede Federal de EPCT, podendo ser: Bacharelado, Mestrado Profissional, Qualificação Profissional (FIC), Técnico, Especialização (Lato Sensu), Doutorado, Licenciatura, Mestrado, Tecnologia, Ensino Médio, Ensino Fundamental II, Ensino Fundamental I, Educação Infantil e Doutorado Profissional.', '', '@author dsbr', '@version 1', '@date 03/11/2022', '@panel Faixa Etária; Técnicos-administrativos por Nível; Dados Gerais; Curso, matrícula e oferta; Situação de matrícula; Classificação Racial, Renda e Sexo; Percentuais Legais;  Oferta de vagas noturnas; Relação inscritos/vagas; Taxa de evasão; Eficiência Acadêmica; Titulação Docente'], element='column tipoCurso', properties='dataType: string\\nlineageTag: a75c085c-9712-4a09-a940-66a7417cca6f\\nsummarizeBy: none\\nsourceColumn: tipoCurso\\nannotation SummarizationSetBy = Automatic\\n', calculation=[]),\n",
       " TMDL(description=['@description Categorização transversal utilizada para diferenciar as formas de ofertas dos Cursos Técnicos e de Qualificação Profissional (FIC). Estão previstas as seguintes categorias: Integrado, Subsequente, Concomitante, PROEJA – Concomitante e PROEJA – Integrado.', '', '@author dsbr', '@version 1', '@date 03/11/2022', '@panel Faixa Etária'], element='column tipoOferta', properties='dataType: string\\nlineageTag: 9d171d7c-d76c-46e9-a437-5aef0ceb983b\\nsummarizeBy: none\\nsourceColumn: tipoOferta\\nannotation SummarizationSetBy = Automatic\\n', calculation=[]),\n",
       " TMDL(description=['@description Período do dia ou da noite em que o aluno cursa a maior parte das aulas, podendo ser matutino, vespertino, noturno ou integral. Não se aplica aos cursos com Modalidade de Ensino a distância.', '', '@author dsbr', '@version 1', '@date 03/11/2022', '@panel Dados Gerais; Curso, matrícula e oferta; Situação de matrícula; Classificação Racial, Renda e Sexo; Faixa Etária; Percentuais Legais;  Oferta de vagas noturnas; Relação inscritos/vagas; Taxa de evasão; Eficiência Acadêmica; Titulação Docente'], element='column turnoCurso', properties='dataType: string\\nlineageTag: 838346a3-e7dc-4d83-b0f7-706d9482ebec\\nsummarizeBy: none\\nsourceColumn: turnoCurso\\nannotation SummarizationSetBy = Automatic\\n', calculation=[]),\n",
       " TMDL(description=['@description Ajusta a carga horária do curso em função da quantidade de aulas práticas que, tecnicamente, demandem menor Relação Matrícula por Professor.'], element='column fatorEsforcoCurso', properties='dataType: double\\nlineageTag: d042b0b9-3a59-4dfc-a28e-f0b30c1ca7ef\\nsummarizeBy: sum\\nsourceColumn: fatorEsforcoCurso\\nannotation SummarizationSetBy = Automatic\\nannotation PBI_FormatHint = {\"isGeneralNumber\":true}\\n', calculation=[]),\n",
       " TMDL(description=['@description Carga horária mínima do curso de acordo com o art. 5º, §2º, da Portaria SETEC nº 51, de 21 de novembro de 2018.'], element='column CHMinimaCurso', properties='dataType: int64\\nformatString: 0\\nlineageTag: 91c2f9d2-c3a5-44b1-b376-98e5e55d7cf6\\nsummarizeBy: sum\\nsourceColumn: CHMinimaCurso\\nannotation SummarizationSetBy = Automatic\\n', calculation=[]),\n",
       " TMDL(description=[], element='column skCursoMatricula', properties='dataType: int64\\nformatString: 0\\nlineageTag: 275d1c37-5e9a-47e7-b392-ede4fff38847\\nsummarizeBy: none\\nsourceColumn: skCursoMatricula\\nannotation SummarizationSetBy = Automatic\\n', calculation=[]),\n",
       " TMDL(description=['@description Carga horária do ciclo de matrícula declarada no SISTEC e validada na PNP pela instituição.'], element='column CH', properties='dataType: int64\\nformatString: 0\\nlineageTag: 347e19f1-4286-469f-a740-61a2a4c6439e\\nsummarizeBy: sum\\nsourceColumn: CH\\nannotation SummarizationSetBy = Automatic\\n', calculation=[]),\n",
       " TMDL(description=['@description Carga horária mínima regulamentada do curso'], element='column CHMR =', properties=[TMDL(description=[], element='\\tSWITCH (\\n', properties='    [tipoCurso],\\n    \"Técnico\",\\n        IF (\\n            [tipoOferta] = \"PROEJA - Integrado\",\\n            2400,\\n            IF (\\n                [tipoOferta] = \"Integrado\",\\n                SWITCH (\\n                    [CHMinimaCurso],\\n                    800, 3000,\\n                    1000, 3100,\\n                    1200, 3200\\n                ),\\n                [CHMinimaCurso]\\n            )\\n        ),\\n    \"Qualificação Profissional (FIC)\", [CH],\\n    \"Ensino Fundamental I\", 4000,\\n    \"Ensino Fundamental II\", 3200,\\n    \"Educação Infantil\", 2400,\\n    [CHMinimaCurso]\\n)\\n', calculation=[]), TMDL(description=[], element='dataType: int64', properties='', calculation=[]), TMDL(description=[], element='formatString: 0', properties='', calculation=[]), TMDL(description=[], element='displayFolder: Percentuais Legais', properties='', calculation=[]), TMDL(description=[], element='lineageTag: 8a1b00fc-d957-43cd-b399-4457e986c04a', properties='', calculation=[]), TMDL(description=[], element='summarizeBy: sum', properties='', calculation=[]), TMDL(description=[], element='isDataTypeInferred', properties='', calculation=[]), TMDL(description=[], element='annotation SummarizationSetBy = Automatic', properties='', calculation=[])], calculation=[]),\n",
       " TMDL(description=['@description Fator de Equiparação de Carga Horária - Permite a equiparação de cursos com durações distintas, sendo calculado pela divisão da carga horária anual do curso por oitocentas horas. A carga  horária anual do curso deve considerar a carga horária mínima  regulamentada e a duração do ciclo do curso, em anos, definido no projeto pedagógico'], element='column FECH =', properties=[TMDL(description=[], element='\\tIF (\\n', properties='    [tipoCurso] = \"Qualificação Profissional (FIC)\",\\n    [CHMR] / 800,\\n    1\\n)\\n', calculation=[]), TMDL(description=[], element='dataType: double', properties='', calculation=[]), TMDL(description=[], element='displayFolder: Percentuais Legais', properties='', calculation=[]), TMDL(description=[], element='lineageTag: 39fc567a-4807-4331-b8a7-2c19b90914f0', properties='', calculation=[]), TMDL(description=[], element='summarizeBy: sum', properties='', calculation=[]), TMDL(description=[], element='isDataTypeInferred', properties='', calculation=[]), TMDL(description=[], element='annotation SummarizationSetBy = Automatic', properties='', calculation=[]), TMDL(description=[], element='annotation PBI_FormatHint = {\"isGeneralNumber\":true}', properties='', calculation=[])], calculation=[]),\n",
       " TMDL(description=['@description Nível do curso. Agregação de tipo de curso (exemplo: básico, técnico, etc.)'], element='column NivelCurso', properties='dataType: string\\nlineageTag: 99a01132-a402-44b7-90e4-0d3d1b30d726\\nsummarizeBy: none\\nsourceColumn: NivelCurso\\nannotation SummarizationSetBy = Automatic\\n', calculation=[]),\n",
       " TMDL(description=['@description Campo de ordenação do nível de curso'], element='column OrdemNivelCurso', properties='dataType: string\\nlineageTag: a0b433d7-d74e-48fb-a2f2-4fbc27472450\\nsummarizeBy: none\\nsourceColumn: OrdemNivelCurso\\nannotation SummarizationSetBy = Automatic\\n', calculation=[]),\n",
       " TMDL(description=[], element='partition dimCurso-9656090d-95e9-402e-a238-20bb37c17853 = m', properties=[TMDL(description=[], element='mode: import', properties='', calculation=[]), TMDL(description=[], element=\"queryGroup: 'Modelo PNP\\\\Dimensões'\", properties='', calculation=[]), TMDL(description=[], element='source =', properties=[TMDL(description=[], element='\\tlet\\n', properties=[TMDL(description=[], element='\\tFonte = Csv.Document(Binary.Decompress(Web.Contents(AWS&\"dimCurso.csv.gz\"),Compression.GZip),[Delimiter=\";\", Columns=15, Encoding=1252, QuoteStyle=QuoteStyle.None]),\\n', properties='#\"Cabeçalhos Promovidos\" = Table.PromoteHeaders(Fonte, [PromoteAllScalars=true]),\\n#\"Tipo Alterado\" = Table.TransformColumnTypes(#\"Cabeçalhos Promovidos\",{{\"codCurso\", Int64.Type}, {\"codUnidade\", Int64.Type}, {\"tipoEixoTecnologico\", type text}, {\"ModalidadeEnsino\", type text}, {\"nomeCurso\", type text}, {\"SubeixoTecnologico\", type text}, {\"tipoCurso\", type text}, {\"tipoOferta\", type text}, {\"turnoCurso\", type text}, {\"CHMinimaCurso\", Int64.Type}, {\"fatorEsforcoCurso\", type number}, {\"skCursoMatricula\", Int64.Type}, {\"CH\", Int64.Type}})\\n', calculation=[]), TMDL(description=[], element='in', properties='#\"Tipo Alterado\"\\n', calculation=[])], calculation=[])], calculation=[])], calculation=[]),\n",
       " TMDL(description=[], element='annotation PBI_ResultType = Table', properties='', calculation=[])]"
      ]
     },
     "execution_count": 196,
     "metadata": {},
     "output_type": "execute_result"
    }
   ],
   "source": [
    "parsed_data[0].properties"
   ]
  },
  {
   "cell_type": "code",
   "execution_count": 197,
   "metadata": {},
   "outputs": [
    {
     "data": {
      "text/plain": [
       "[]"
      ]
     },
     "execution_count": 197,
     "metadata": {},
     "output_type": "execute_result"
    }
   ],
   "source": [
    "parsed_data[0].calculation"
   ]
  },
  {
   "cell_type": "code",
   "execution_count": 198,
   "metadata": {},
   "outputs": [
    {
     "data": {
      "text/plain": [
       "['@description Corresponde à matrícula ponderada pelos fatores de: - Fator de Equiparação de carga horária; - Fator de Esforço de curso.',\n",
       " '@author dsbr',\n",
       " '@version 1',\n",
       " '@date 03/11/2022']"
      ]
     },
     "execution_count": 198,
     "metadata": {},
     "output_type": "execute_result"
    }
   ],
   "source": [
    "parsed_data[0].properties[1].description"
   ]
  },
  {
   "cell_type": "code",
   "execution_count": 199,
   "metadata": {},
   "outputs": [
    {
     "data": {
      "text/plain": [
       "TMDL(description=[], element='partition dimCurso-9656090d-95e9-402e-a238-20bb37c17853 = m', properties=[TMDL(description=[], element='mode: import', properties='', calculation=[]), TMDL(description=[], element=\"queryGroup: 'Modelo PNP\\\\Dimensões'\", properties='', calculation=[]), TMDL(description=[], element='source =', properties=[TMDL(description=[], element='\\tlet\\n', properties=[TMDL(description=[], element='\\tFonte = Csv.Document(Binary.Decompress(Web.Contents(AWS&\"dimCurso.csv.gz\"),Compression.GZip),[Delimiter=\";\", Columns=15, Encoding=1252, QuoteStyle=QuoteStyle.None]),\\n', properties='#\"Cabeçalhos Promovidos\" = Table.PromoteHeaders(Fonte, [PromoteAllScalars=true]),\\n#\"Tipo Alterado\" = Table.TransformColumnTypes(#\"Cabeçalhos Promovidos\",{{\"codCurso\", Int64.Type}, {\"codUnidade\", Int64.Type}, {\"tipoEixoTecnologico\", type text}, {\"ModalidadeEnsino\", type text}, {\"nomeCurso\", type text}, {\"SubeixoTecnologico\", type text}, {\"tipoCurso\", type text}, {\"tipoOferta\", type text}, {\"turnoCurso\", type text}, {\"CHMinimaCurso\", Int64.Type}, {\"fatorEsforcoCurso\", type number}, {\"skCursoMatricula\", Int64.Type}, {\"CH\", Int64.Type}})\\n', calculation=[]), TMDL(description=[], element='in', properties='#\"Tipo Alterado\"\\n', calculation=[])], calculation=[])], calculation=[])], calculation=[])"
      ]
     },
     "execution_count": 199,
     "metadata": {},
     "output_type": "execute_result"
    }
   ],
   "source": [
    "parsed_data[0].properties[-2]"
   ]
  },
  {
   "cell_type": "code",
   "execution_count": 200,
   "metadata": {},
   "outputs": [
    {
     "data": {
      "text/plain": [
       "'partition dimCurso-9656090d-95e9-402e-a238-20bb37c17853 = m'"
      ]
     },
     "execution_count": 200,
     "metadata": {},
     "output_type": "execute_result"
    }
   ],
   "source": [
    "parsed_data[0].properties[-2].element"
   ]
  },
  {
   "cell_type": "code",
   "execution_count": 201,
   "metadata": {},
   "outputs": [
    {
     "data": {
      "text/plain": [
       "[TMDL(description=[], element='mode: import', properties='', calculation=[]),\n",
       " TMDL(description=[], element=\"queryGroup: 'Modelo PNP\\\\Dimensões'\", properties='', calculation=[]),\n",
       " TMDL(description=[], element='source =', properties=[TMDL(description=[], element='\\tlet\\n', properties=[TMDL(description=[], element='\\tFonte = Csv.Document(Binary.Decompress(Web.Contents(AWS&\"dimCurso.csv.gz\"),Compression.GZip),[Delimiter=\";\", Columns=15, Encoding=1252, QuoteStyle=QuoteStyle.None]),\\n', properties='#\"Cabeçalhos Promovidos\" = Table.PromoteHeaders(Fonte, [PromoteAllScalars=true]),\\n#\"Tipo Alterado\" = Table.TransformColumnTypes(#\"Cabeçalhos Promovidos\",{{\"codCurso\", Int64.Type}, {\"codUnidade\", Int64.Type}, {\"tipoEixoTecnologico\", type text}, {\"ModalidadeEnsino\", type text}, {\"nomeCurso\", type text}, {\"SubeixoTecnologico\", type text}, {\"tipoCurso\", type text}, {\"tipoOferta\", type text}, {\"turnoCurso\", type text}, {\"CHMinimaCurso\", Int64.Type}, {\"fatorEsforcoCurso\", type number}, {\"skCursoMatricula\", Int64.Type}, {\"CH\", Int64.Type}})\\n', calculation=[]), TMDL(description=[], element='in', properties='#\"Tipo Alterado\"\\n', calculation=[])], calculation=[])], calculation=[])]"
      ]
     },
     "execution_count": 201,
     "metadata": {},
     "output_type": "execute_result"
    }
   ],
   "source": [
    "parsed_data[0].properties[-2].properties"
   ]
  },
  {
   "cell_type": "code",
   "execution_count": 204,
   "metadata": {},
   "outputs": [
    {
     "data": {
      "text/plain": [
       "[]"
      ]
     },
     "execution_count": 204,
     "metadata": {},
     "output_type": "execute_result"
    }
   ],
   "source": [
    "parsed_data[0].properties[1].calculation"
   ]
  },
  {
   "cell_type": "code",
   "execution_count": 144,
   "metadata": {},
   "outputs": [
    {
     "data": {
      "text/plain": [
       "['\\t\\t\\t/*@description Corresponde à matrícula ponderada pelos fatores de: - Fator de Equiparação de carga horária; - Fator de Esforço de curso.\\n',\n",
       " '\\t\\t\\t@author dsbr\\n',\n",
       " '\\t\\t\\t@version 1\\n',\n",
       " '\\t\\t\\t@date 03/11/2022*/\\n',\n",
       " '\\t\\t\\tCALCULATE\\n',\n",
       " '\\t\\t\\t([Matrícula Equivalente Apresentada Geral], dimFinanciamento[nomeFonteFinanciamentoCorrigido] IN {\"Sem Programa Associado\", \"MedioTec\"})\\n',\n",
       " '\\t\\t\\t```\\n',\n",
       " '\\t\\tformatString: 0.000\\n',\n",
       " '\\t\\tlineageTag: d67dd037-af45-4c8c-b957-a21e69aedb2b\\n',\n",
       " '\\t\\tchangedProperty = FormatString\\n',\n",
       " '\\t\\tdataType: int64\\n',\n",
       " '\\t\\tisHidden\\n',\n",
       " '\\t\\tformatString: 0\\n',\n",
       " '\\t\\tlineageTag: b60cedce-2e16-448a-aae8-9357ae50a21c\\n',\n",
       " '\\t\\tsummarizeBy: sum\\n',\n",
       " '\\t\\tsourceColumn: codCurso\\n',\n",
       " '\\t\\tchangedProperty = IsHidden\\n',\n",
       " '\\t\\tannotation SummarizationSetBy = Automatic\\n',\n",
       " '\\t\\tdataType: int64\\n',\n",
       " '\\t\\tisHidden\\n',\n",
       " '\\t\\tformatString: 0\\n',\n",
       " '\\t\\tlineageTag: 7171ce63-0635-40c4-83c1-6f200adfb676\\n',\n",
       " '\\t\\tsummarizeBy: sum\\n',\n",
       " '\\t\\tsourceColumn: codUnidade\\n',\n",
       " '\\t\\tchangedProperty = IsHidden\\n',\n",
       " '\\t\\tannotation SummarizationSetBy = Automatic\\n',\n",
       " '\\t\\tdataType: string\\n',\n",
       " '\\t\\tlineageTag: d565de8c-699b-497f-a414-fb7fcbc1a4df\\n',\n",
       " '\\t\\tsummarizeBy: none\\n',\n",
       " '\\t\\tsourceColumn: tipoEixoTecnologico\\n',\n",
       " '\\t\\tannotation SummarizationSetBy = Automatic\\n',\n",
       " '\\t\\tdataType: string\\n',\n",
       " '\\t\\tlineageTag: 1a64db48-1f1c-41e6-915f-1582fb1553f7\\n',\n",
       " '\\t\\tsummarizeBy: none\\n',\n",
       " '\\t\\tsourceColumn: ModalidadeEnsino\\n',\n",
       " '\\t\\tannotation SummarizationSetBy = Automatic\\n',\n",
       " '\\t\\tdataType: string\\n',\n",
       " '\\t\\tlineageTag: a25e0cde-c793-4aef-b615-8028251af7b9\\n',\n",
       " '\\t\\tsummarizeBy: none\\n',\n",
       " '\\t\\tsourceColumn: nomeCurso\\n',\n",
       " '\\t\\tannotation SummarizationSetBy = Automatic\\n',\n",
       " '\\t\\tdataType: string\\n',\n",
       " '\\t\\tlineageTag: e30e9720-b8d2-4be8-bf05-5b93283daf22\\n',\n",
       " '\\t\\tsummarizeBy: none\\n',\n",
       " '\\t\\tsourceColumn: SubeixoTecnologico\\n',\n",
       " '\\t\\tannotation SummarizationSetBy = Automatic\\n',\n",
       " '\\t\\tdataType: string\\n',\n",
       " '\\t\\tlineageTag: a75c085c-9712-4a09-a940-66a7417cca6f\\n',\n",
       " '\\t\\tsummarizeBy: none\\n',\n",
       " '\\t\\tsourceColumn: tipoCurso\\n',\n",
       " '\\t\\tannotation SummarizationSetBy = Automatic\\n',\n",
       " '\\t\\tdataType: string\\n',\n",
       " '\\t\\tlineageTag: 9d171d7c-d76c-46e9-a437-5aef0ceb983b\\n',\n",
       " '\\t\\tsummarizeBy: none\\n',\n",
       " '\\t\\tsourceColumn: tipoOferta\\n',\n",
       " '\\t\\tannotation SummarizationSetBy = Automatic\\n',\n",
       " '\\t\\tdataType: string\\n',\n",
       " '\\t\\tlineageTag: 838346a3-e7dc-4d83-b0f7-706d9482ebec\\n',\n",
       " '\\t\\tsummarizeBy: none\\n',\n",
       " '\\t\\tsourceColumn: turnoCurso\\n',\n",
       " '\\t\\tannotation SummarizationSetBy = Automatic\\n',\n",
       " '\\t\\tdataType: double\\n',\n",
       " '\\t\\tlineageTag: d042b0b9-3a59-4dfc-a28e-f0b30c1ca7ef\\n',\n",
       " '\\t\\tsummarizeBy: sum\\n',\n",
       " '\\t\\tsourceColumn: fatorEsforcoCurso\\n',\n",
       " '\\t\\tannotation SummarizationSetBy = Automatic\\n',\n",
       " '\\t\\tannotation PBI_FormatHint = {\"isGeneralNumber\":true}\\n',\n",
       " '\\t\\tdataType: int64\\n',\n",
       " '\\t\\tformatString: 0\\n',\n",
       " '\\t\\tlineageTag: 91c2f9d2-c3a5-44b1-b376-98e5e55d7cf6\\n',\n",
       " '\\t\\tsummarizeBy: sum\\n',\n",
       " '\\t\\tsourceColumn: CHMinimaCurso\\n',\n",
       " '\\t\\tannotation SummarizationSetBy = Automatic\\n',\n",
       " '\\t\\tdataType: int64\\n',\n",
       " '\\t\\tformatString: 0\\n',\n",
       " '\\t\\tlineageTag: 275d1c37-5e9a-47e7-b392-ede4fff38847\\n',\n",
       " '\\t\\tsummarizeBy: none\\n',\n",
       " '\\t\\tsourceColumn: skCursoMatricula\\n',\n",
       " '\\t\\tannotation SummarizationSetBy = Automatic\\n',\n",
       " '\\t\\tdataType: int64\\n',\n",
       " '\\t\\tformatString: 0\\n',\n",
       " '\\t\\tlineageTag: 347e19f1-4286-469f-a740-61a2a4c6439e\\n',\n",
       " '\\t\\tsummarizeBy: sum\\n',\n",
       " '\\t\\tsourceColumn: CH\\n',\n",
       " '\\t\\tannotation SummarizationSetBy = Automatic\\n',\n",
       " '\\t\\t\\tSWITCH (\\n',\n",
       " '\\t\\t\\t    [tipoCurso],\\n',\n",
       " '\\t\\t\\t    \"Técnico\",\\n',\n",
       " '\\t\\t\\t        IF (\\n',\n",
       " '\\t\\t\\t            [tipoOferta] = \"PROEJA - Integrado\",\\n',\n",
       " '\\t\\t\\t            2400,\\n',\n",
       " '\\t\\t\\t            IF (\\n',\n",
       " '\\t\\t\\t                [tipoOferta] = \"Integrado\",\\n',\n",
       " '\\t\\t\\t                SWITCH (\\n',\n",
       " '\\t\\t\\t                    [CHMinimaCurso],\\n',\n",
       " '\\t\\t\\t                    800, 3000,\\n',\n",
       " '\\t\\t\\t                    1000, 3100,\\n',\n",
       " '\\t\\t\\t                    1200, 3200\\n',\n",
       " '\\t\\t\\t                ),\\n',\n",
       " '\\t\\t\\t                [CHMinimaCurso]\\n',\n",
       " '\\t\\t\\t            )\\n',\n",
       " '\\t\\t\\t        ),\\n',\n",
       " '\\t\\t\\t    \"Qualificação Profissional (FIC)\", [CH],\\n',\n",
       " '\\t\\t\\t    \"Ensino Fundamental I\", 4000,\\n',\n",
       " '\\t\\t\\t    \"Ensino Fundamental II\", 3200,\\n',\n",
       " '\\t\\t\\t    \"Educação Infantil\", 2400,\\n',\n",
       " '\\t\\t\\t    [CHMinimaCurso]\\n',\n",
       " '\\t\\t\\t)\\n',\n",
       " '\\t\\tdataType: int64\\n',\n",
       " '\\t\\tformatString: 0\\n',\n",
       " '\\t\\tdisplayFolder: Percentuais Legais\\n',\n",
       " '\\t\\tlineageTag: 8a1b00fc-d957-43cd-b399-4457e986c04a\\n',\n",
       " '\\t\\tsummarizeBy: sum\\n',\n",
       " '\\t\\tisDataTypeInferred\\n',\n",
       " '\\t\\tannotation SummarizationSetBy = Automatic\\n',\n",
       " '\\t\\t\\tIF (\\n',\n",
       " '\\t\\t\\t    [tipoCurso] = \"Qualificação Profissional (FIC)\",\\n',\n",
       " '\\t\\t\\t    [CHMR] / 800,\\n',\n",
       " '\\t\\t\\t    1\\n',\n",
       " '\\t\\t\\t)\\n',\n",
       " '\\t\\tdataType: double\\n',\n",
       " '\\t\\tdisplayFolder: Percentuais Legais\\n',\n",
       " '\\t\\tlineageTag: 39fc567a-4807-4331-b8a7-2c19b90914f0\\n',\n",
       " '\\t\\tsummarizeBy: sum\\n',\n",
       " '\\t\\tisDataTypeInferred\\n',\n",
       " '\\t\\tannotation SummarizationSetBy = Automatic\\n',\n",
       " '\\t\\tannotation PBI_FormatHint = {\"isGeneralNumber\":true}\\n',\n",
       " '\\t\\tdataType: string\\n',\n",
       " '\\t\\tlineageTag: 99a01132-a402-44b7-90e4-0d3d1b30d726\\n',\n",
       " '\\t\\tsummarizeBy: none\\n',\n",
       " '\\t\\tsourceColumn: NivelCurso\\n',\n",
       " '\\t\\tannotation SummarizationSetBy = Automatic\\n',\n",
       " '\\t\\tdataType: string\\n',\n",
       " '\\t\\tlineageTag: a0b433d7-d74e-48fb-a2f2-4fbc27472450\\n',\n",
       " '\\t\\tsummarizeBy: none\\n',\n",
       " '\\t\\tsourceColumn: OrdemNivelCurso\\n',\n",
       " '\\t\\tannotation SummarizationSetBy = Automatic\\n',\n",
       " '\\t\\tmode: import\\n',\n",
       " \"\\t\\tqueryGroup: 'Modelo PNP\\\\Dimensões'\\n\",\n",
       " '\\t\\tsource =\\n',\n",
       " '\\t\\t\\t\\tlet\\n',\n",
       " '\\t\\t\\t\\t\\tFonte = Csv.Document(Binary.Decompress(Web.Contents(AWS&\"dimCurso.csv.gz\"),Compression.GZip),[Delimiter=\";\", Columns=15, Encoding=1252, QuoteStyle=QuoteStyle.None]),\\n',\n",
       " '\\t\\t\\t\\t\\t#\"Cabeçalhos Promovidos\" = Table.PromoteHeaders(Fonte, [PromoteAllScalars=true]),\\n',\n",
       " '\\t\\t\\t\\t\\t#\"Tipo Alterado\" = Table.TransformColumnTypes(#\"Cabeçalhos Promovidos\",{{\"codCurso\", Int64.Type}, {\"codUnidade\", Int64.Type}, {\"tipoEixoTecnologico\", type text}, {\"ModalidadeEnsino\", type text}, {\"nomeCurso\", type text}, {\"SubeixoTecnologico\", type text}, {\"tipoCurso\", type text}, {\"tipoOferta\", type text}, {\"turnoCurso\", type text}, {\"CHMinimaCurso\", Int64.Type}, {\"fatorEsforcoCurso\", type number}, {\"skCursoMatricula\", Int64.Type}, {\"CH\", Int64.Type}})\\n',\n",
       " '\\t\\t\\t\\tin\\n',\n",
       " '\\t\\t\\t\\t\\t#\"Tipo Alterado\"\\n']"
      ]
     },
     "execution_count": 144,
     "metadata": {},
     "output_type": "execute_result"
    }
   ],
   "source": [
    "parsed_data[0].calculation"
   ]
  },
  {
   "cell_type": "code",
   "execution_count": 1,
   "metadata": {},
   "outputs": [],
   "source": [
    "import json\n",
    "from jinja2 import Environment, FileSystemLoader"
   ]
  },
  {
   "cell_type": "code",
   "execution_count": 2,
   "metadata": {},
   "outputs": [],
   "source": [
    "with open(\"tables.json\", \"r\", encoding=\"utf-8\") as f:\n",
    "    tmdl_data = json.load(f)"
   ]
  },
  {
   "cell_type": "code",
   "execution_count": 4,
   "metadata": {},
   "outputs": [
    {
     "name": "stdout",
     "output_type": "stream",
     "text": [
      "table @project\n",
      "table Atualizacao\n",
      "table Brasao\n",
      "table contador-monitor\n",
      "table 'Contexto Orçamentário'\n",
      "table 'Controle Empenho'\n",
      "table DateTableTemplate_efd75c12-63d8-4a48-bff0-810439d01e27\n",
      "table dCalendInterval\n",
      "table dCalendário\n",
      "table dimCargos\n",
      "table dimCarreiras\n",
      "table dimCicloMatricula\n",
      "table dimCurso\n",
      "table dimEscolaridade\n",
      "table dimFinanciamento\n",
      "table dimFuncao\n",
      "table dimJornada\n",
      "table dimOrgao\n",
      "table dimRendaRaca\n",
      "table dimSexoIdade\n",
      "table dimSexoIdadeSiape\n",
      "table dimSitFuncional\n",
      "table dimSituacao\n",
      "table dimTempoServico\n",
      "table dimUnidade\n",
      "table dimUsernameInstagram\n",
      "table dimVagas\n",
      "table d_IES\n",
      "table Esfera\n",
      "table fCiclos\n",
      "table fCPC\n",
      "table fEficienciaAcademica\n",
      "table fFinanceiro\n",
      "table fFuncoes\n",
      "table fIGC\n",
      "table fInstagram\n",
      "table Fonte\n",
      "table fOrçamentoComparar\n",
      "table 'fServidores | Microdados'\n",
      "table fServidoresSiape\n",
      "table fSituaçãoMatrícula\n",
      "table FuncFinanceiras\n",
      "table fVagas\n",
      "table icons\n",
      "table IndicAcompOrc\n",
      "table IndicadorVar\n",
      "table ItemDespesa\n",
      "table LocalDateTable_031d51da-ffa4-4d99-9903-68ebf2059f1b\n",
      "table LocalDateTable_04d17d01-8b38-4bb8-81c0-1aa7c0876e11\n",
      "table LocalDateTable_0c25ac4f-c7de-4f80-adac-562b0c6cd747\n",
      "table LocalDateTable_4a1789ab-0489-48f2-8eb5-4a6e6b784b36\n",
      "table LocalDateTable_96eb3fcb-e263-4fe0-8abf-af7ef63b17f7\n",
      "table LocalDateTable_a9687e7a-fbed-418f-800c-f88c7842a2a9\n",
      "table LocalDateTable_c5b4e80a-a5bc-43dd-a019-3d28daeb97e2\n",
      "table LocalDateTable_f5e2a210-6d1b-45f5-8792-d3b0bcd3380f\n",
      "table MedidasFinanceiras\n",
      "table MedidasIndicadores\n",
      "table NaturezaDespesa\n",
      "table PTRES\n",
      "table 'Redes Sociais'\n",
      "table RelacaoOrgao\n",
      "table ResultadoPrimario\n",
      "table TipoCurso\n",
      "table UGE\n",
      "table UnidadeOrgao\n",
      "table urls\n",
      "table _dGraficoIV\n",
      "table _dimCargo\n",
      "table _dimFuncao\n",
      "table _dimOrçamento\n",
      "table _dInstituições\n",
      "table _DInstituiçõesINEP\n",
      "table _dMicrodados\n",
      "table '_dServidores | Microdados'\n",
      "table _dServidores\n",
      "table _ExpTítulos\n",
      "table _fCPC\n",
      "table _fEficiênciaAcadêmica\n",
      "table _fIGC\n",
      "table _fIndAcompOrc\n",
      "table _fMatrículas\n",
      "table _fOrçamento\n",
      "table _GraficoIV\n",
      "table _RealçarData\n",
      "table _TabelaIV\n",
      "table _UFColor\n"
     ]
    }
   ],
   "source": [
    "for file_name, tmdl_list in tmdl_data.items():\n",
    "    for tmdl_obj in tmdl_list:\n",
    "        print(tmdl_obj.get(\"element\", \"\"))"
   ]
  },
  {
   "cell_type": "code",
   "execution_count": null,
   "metadata": {},
   "outputs": [],
   "source": []
  }
 ],
 "metadata": {
  "kernelspec": {
   "display_name": "base",
   "language": "python",
   "name": "python3"
  },
  "language_info": {
   "codemirror_mode": {
    "name": "ipython",
    "version": 3
   },
   "file_extension": ".py",
   "mimetype": "text/x-python",
   "name": "python",
   "nbconvert_exporter": "python",
   "pygments_lexer": "ipython3",
   "version": "3.12.7"
  }
 },
 "nbformat": 4,
 "nbformat_minor": 2
}
