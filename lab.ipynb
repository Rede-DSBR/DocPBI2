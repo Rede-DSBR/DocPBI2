{
 "cells": [
  {
   "cell_type": "code",
   "execution_count": 18,
   "metadata": {},
   "outputs": [],
   "source": [
    "import sys\n",
    "import os\n",
    "import re\n",
    "import yaml\n",
    "import json\n",
    "import pandas as pd\n",
    "import numpy as np\n",
    "from pyparsing import *"
   ]
  },
  {
   "cell_type": "markdown",
   "metadata": {},
   "source": [
    "# Sobre"
   ]
  },
  {
   "cell_type": "markdown",
   "metadata": {},
   "source": [
    "Notebook experimental sobre extrair dados do powerbi via formato pbip e tmdl"
   ]
  },
  {
   "cell_type": "markdown",
   "metadata": {},
   "source": [
    "# Referências\n",
    "\n",
    "* [TMDL model no powerbi](https://powerbi.microsoft.com/en-us/blog/tmdl-in-power-bi-desktop-developer-mode-preview/#:~:text=Before%20giving%20it%20a%20try,semantic%20model%20using%20TMDL%20format%E2%80%9D.)"
   ]
  },
  {
   "cell_type": "markdown",
   "metadata": {},
   "source": [
    "# Extrair dados do TMLD"
   ]
  },
  {
   "cell_type": "code",
   "execution_count": 20,
   "metadata": {},
   "outputs": [],
   "source": [
    "def parse_tmdl(content):\n",
    "    data = {}\n",
    "    context = [data]  # Stack to hold the current context in the nested structure\n",
    "    last_indent_level = 0\n",
    "\n",
    "    # Pattern to capture the indentation level and content of each line\n",
    "    line_re = re.compile(r\"^(\\s*)(\\S.*)\")\n",
    "\n",
    "    for line in content.split('\\n'):\n",
    "        if not line.strip():\n",
    "            continue  # Ignore empty lines\n",
    "\n",
    "        indent, line_content = line_re.match(line).groups()\n",
    "        indent_level = len(indent) // 4  # Assuming each indentation level is a tab or 4 spaces\n",
    "\n",
    "        # Navigate up the context stack if the current indent level is less than the last\n",
    "        if indent_level <= last_indent_level:\n",
    "            context = context[:indent_level+1]\n",
    "\n",
    "        if ':' in line_content:\n",
    "            key, value = map(str.strip, line_content.split(':', 1))\n",
    "            context[-1][key] = value\n",
    "        else:\n",
    "            key = line_content.strip()\n",
    "            new_dict = {}\n",
    "            context[-1][key] = new_dict\n",
    "            context.append(new_dict)  # Push new dictionary onto the context stack for nested blocks\n",
    "\n",
    "        last_indent_level = indent_level  # Update the last indent level\n",
    "\n",
    "    return data"
   ]
  },
  {
   "cell_type": "code",
   "execution_count": 21,
   "metadata": {},
   "outputs": [
    {
     "name": "stdout",
     "output_type": "stream",
     "text": [
      "{'model Model': {}, 'culture': 'pt-BR', 'defaultPowerBIDataSourceVersion': 'powerBI_V3', 'discourageImplicitMeasures': {}, 'sourceQueryCulture': 'pt-BR', 'dataAccessOptions': {}, 'fastCombine': {}, 'legacyRedirects': {}, 'returnErrorValuesAsNull': {}, 'queryGroup Parâmetros': {}, 'annotation PBI_QueryGroupOrder = 0': {}, \"queryGroup 'Modelo PNP\\\\Dimensões'\": {}, \"queryGroup 'Modelo PNP\\\\Fatos'\": {}, 'annotation PBI_QueryGroupOrder = 1': {}, \"queryGroup 'Modelo Orçamentário'\": {}, 'annotation PBI_QueryGroupOrder = 3': {}, \"queryGroup 'Modelo Orçamentário\\\\Orçamento - Siop'\": {}, '/// Grupo de Consultas do Modelo Orçamentário DSBR': {}, \"queryGroup 'Modelo Orçamentário\\\\Orçamento TG'\": {}, '/// Modelo de Dados Acadêmicos do Rede Revalide/PNP': {}, \"queryGroup 'Modelo PNP'\": {}, 'queryGroup Instagram': {}, 'annotation PBI_QueryGroupOrder = 4': {}, \"queryGroup 'Modelo Gestão de Pessoas'\": {}, 'annotation PBI_QueryGroupOrder = 2': {}, \"queryGroup 'Modelo Gestão de Pessoas\\\\Fatos'\": {}, \"queryGroup 'Modelo Gestão de Pessoas\\\\Dimensões'\": {}, \"queryGroup 'Modelo Gestão de Pessoas\\\\Auxiliares'\": {}, '/// Erros nas consultas que foram carregadas em 06/04/2023 15': '52:02.', \"queryGroup 'Erros na Consulta - 06/04/2023 15\": \"52:02'\", 'annotation PBI_QueryGroupOrder = 12': {}, 'annotation PBI_QueryGroupOrder = 13': {}, 'annotation PBIDesktopVersion = 2.136.1202.0 (24.09)': {}, 'annotation PBI_QueryOrder = [\"dimSexoIdade\",\"dimCicloMatricula\",\"dimCurso\",\"dimFinanciamento\",\"dimRendaRaca\",\"dimSituacao\",\"dimUnidade\",\"dimVagas\",\"d_IES\",\"fCiclos\",\"fVagas\",\"AWS\",\"AWS TG\",\"EndTG\",\"TG\",\"URLBase\",\"Siop\",\"GCS\",\"fSituaçãoMatrícula\",\"dCalendário\",\"geradCalendario\",\"Esfera\",\"ResultadoPrimario\",\"SiopFonte\",\"SiopFuncional\",\"SiopProgramaticaUO\",\"SiopOrgaoUO\",\"SiopNaturezaDespesa\",\"ResultadoCid\",\"Fonte\",\"ItemDespesa\",\"NaturezaDespesa\",\"PTRES\",\"UnidadeOrgao\",\"UGE\",\"Unidades Orçamentárias\",\"LISTAGEM (Pessoal+Custeio)\",\"Atualizacao\",\"fEficienciaAcademica\",\"MedidasIndicadores\",\"fServidoresSiape\",\"TipoCurso\",\"fFinanceiro\",\"fServidores | Microdados\",\"fInstagram\",\"Brasao\",\"auxInstagramUsuarios\",\"dimUsernameInstagram\",\"_UFColor\",\"icons\",\"Redes Sociais\",\"_ExpTítulos\",\"fIGC\",\"dimSitFuncional\",\"dimSexoIdadeSiape\",\"dimOrgao\",\"dimJornada\",\"dimEscolaridade\",\"dimCargos\",\"OrgaoUO\",\"CargoCarreira\",\"fFuncoes\",\"dimFuncao\",\"EscolaridadeNivel\",\"SexoIdadeSiapeOrdem\",\"fCPC\",\"fMunicipios\",\"contador-monitor\",\"IndicAcompOrc\",\"dimTempoServico\",\"dimCarreiras\",\"urls\"]': {}, 'annotation __PBI_TimeIntelligenceEnabled = 1': {}, 'annotation __TEdtr = 1': {}, 'annotation PBI_ProTooling = [\"DevMode\"]': {}, 'ref table DateTableTemplate_efd75c12-63d8-4a48-bff0-810439d01e27': {}, 'ref table dimCurso': {}, 'ref table dimUnidade': {}, 'ref table d_IES': {}, 'ref table fVagas': {}, 'ref table fSituaçãoMatrícula': {}, 'ref table dimSexoIdade': {}, 'ref table dimCicloMatricula': {}, 'ref table dimFinanciamento': {}, 'ref table dimRendaRaca': {}, 'ref table dimSituacao': {}, 'ref table dimVagas': {}, 'ref table LocalDateTable_0c25ac4f-c7de-4f80-adac-562b0c6cd747': {}, 'ref table LocalDateTable_a9687e7a-fbed-418f-800c-f88c7842a2a9': {}, 'ref table LocalDateTable_4a1789ab-0489-48f2-8eb5-4a6e6b784b36': {}, 'ref table LocalDateTable_f5e2a210-6d1b-45f5-8792-d3b0bcd3380f': {}, 'ref table dCalendário': {}, 'ref table _dMicrodados': {}, 'ref table _fMatrículas': {}, 'ref table _dInstituições': {}, 'ref table Esfera': {}, 'ref table ResultadoPrimario': {}, 'ref table Fonte': {}, 'ref table ItemDespesa': {}, 'ref table NaturezaDespesa': {}, 'ref table PTRES': {}, 'ref table UnidadeOrgao': {}, 'ref table UGE': {}, 'ref table Brasao': {}, 'ref table Atualizacao': {}, 'ref table LocalDateTable_04d17d01-8b38-4bb8-81c0-1aa7c0876e11': {}, 'ref table LocalDateTable_c5b4e80a-a5bc-43dd-a019-3d28daeb97e2': {}, 'ref table LocalDateTable_96eb3fcb-e263-4fe0-8abf-af7ef63b17f7': {}, \"ref table 'Controle Empenho'\": {}, 'ref table FuncFinanceiras': {}, 'ref table MedidasFinanceiras': {}, 'ref table IndicadorVar': {}, 'ref table _fOrçamento': {}, 'ref table _dimOrçamento': {}, 'ref table dCalendInterval': {}, 'ref table _RealçarData': {}, 'ref table fEficienciaAcademica': {}, 'ref table fOrçamentoComparar': {}, 'ref table MedidasIndicadores': {}, 'ref table TipoCurso': {}, 'ref table fFinanceiro': {}, \"ref table 'fServidores | Microdados'\": {}, 'ref table _fEficiênciaAcadêmica': {}, \"ref table '_dServidores | Microdados'\": {}, 'ref table fInstagram': {}, 'ref table LocalDateTable_031d51da-ffa4-4d99-9903-68ebf2059f1b': {}, 'ref table dimUsernameInstagram': {}, 'ref table _UFColor': {}, 'ref table icons': {}, \"ref table 'Redes Sociais'\": {}, 'ref table _ExpTítulos': {}, 'ref table fIGC': {}, 'ref table fCiclos': {}, 'ref table _dGraficoIV': {}, 'ref table _TabelaIV': {}, 'ref table _GraficoIV': {}, 'ref table fServidoresSiape': {}, 'ref table dimSitFuncional': {}, 'ref table dimSexoIdadeSiape': {}, 'ref table dimOrgao': {}, 'ref table dimJornada': {}, 'ref table dimEscolaridade': {}, 'ref table dimCargos': {}, 'ref table fFuncoes': {}, 'ref table dimFuncao': {}, 'ref table _dServidores': {}, 'ref table fCPC': {}, 'ref table _DInstituiçõesINEP': {}, 'ref table contador-monitor': {}, 'ref table RelacaoOrgao': {}, 'ref table IndicAcompOrc': {}, 'ref table _fIndAcompOrc': {}, 'ref table dimTempoServico': {}, 'ref table _dimCargo': {}, 'ref table _dimFuncao': {}, \"ref table 'Contexto Orçamentário'\": {}, 'ref table _fCPC': {}, 'ref table dimCarreiras': {}, 'ref table _fIGC': {}, 'ref table @project': {}, 'ref table urls': {}, 'ref cultureInfo pt-BR': {}}\n"
     ]
    }
   ],
   "source": [
    "with open('pbip/PNP_Publicada_dev.SemanticModel/definition/model.tmdl', \n",
    "          'r', encoding='utf-8') as file:\n",
    "    file_content = file.read()\n",
    "\n",
    "parsed_data = parse_tmdl(file_content)\n",
    "print(parsed_data)\n"
   ]
  },
  {
   "cell_type": "code",
   "execution_count": 22,
   "metadata": {},
   "outputs": [],
   "source": [
    "def tmdl_to_yaml(tmdl_content):\n",
    "    parsed_data = parse_tmdl(tmdl_content)\n",
    "    return yaml.dump(parsed_data, default_flow_style=False, sort_keys=False)"
   ]
  },
  {
   "cell_type": "code",
   "execution_count": 23,
   "metadata": {},
   "outputs": [],
   "source": [
    "f = tmdl_to_yaml(file_content)"
   ]
  },
  {
   "cell_type": "code",
   "execution_count": null,
   "metadata": {},
   "outputs": [],
   "source": [
    "\n",
    "with open('parsed_data.json', 'w', encoding='utf-8') as json_file:\n",
    "    json.dump(parsed_data, json_file, ensure_ascii=False, indent=4)"
   ]
  },
  {
   "cell_type": "code",
   "execution_count": null,
   "metadata": {},
   "outputs": [],
   "source": [
    "def parse_tmdl(content):\n",
    "    lines = content.split('\\n')\n",
    "    groups = []\n",
    "    current_group = []\n",
    "    \n",
    "    for line in lines:\n",
    "        # Check if the line is not indented (starts at the beginning of the line)\n",
    "\n",
    "        if line.strip() and not line.startswith('\\t') and not line.startswith('    '):\n",
    "            if current_group:\n",
    "                groups.append('\\n'.join(current_group))\n",
    "                current_group = []\n",
    "            # Append the unindented line to start a new group\n",
    "            current_group.append(line)\n",
    "        elif line.strip():\n",
    "            current_group.append(line)\n",
    "    \n",
    "    # Add the last group if any\n",
    "    if current_group:\n",
    "        groups.append('\\n'.join(current_group))\n",
    "    \n",
    "    return groups\n",
    "\n",
    "with open('pbip/PNP_Publicada_dev.SemanticModel/definition/model.tmdl', \n",
    "# with open('pbip/PNP_Publicada_dev.SemanticModel/definition/tables/dimCurso.tmdl', \n",
    "          'r', encoding='utf-8') as file:\n",
    "    file_content = file.read()\n",
    "\n",
    "parsed_data = parse_tmdl(file_content)"
   ]
  },
  {
   "cell_type": "code",
   "execution_count": 36,
   "metadata": {},
   "outputs": [
    {
     "data": {
      "text/plain": [
       "['/// @description A tabela dimCurso possui informações sobre os cursos oferecidos por uma instituição de ensino.',\n",
       " '/// @author dsbr',\n",
       " '/// @version 1',\n",
       " '/// @date 03/11/2022\\t',\n",
       " 'table dimCurso\\n\\tlineageTag: e6e8bb82-8093-4629-9276-4f9d480108e8\\n\\t/// @description Corresponde à matrícula ponderada pelos fatores de: - Fator de Equiparação de carga horária; - Fator de Esforço de curso.\\n\\t/// @author dsbr\\n\\t/// @version 1\\n\\t/// @date 03/11/2022\\n\\tmeasure \\'Matrícula Equivalente\\' = ```\\n\\t\\t\\t/*@description Corresponde à matrícula ponderada pelos fatores de: - Fator de Equiparação de carga horária; - Fator de Esforço de curso.\\n\\t\\t\\t@author dsbr\\n\\t\\t\\t@version 1\\n\\t\\t\\t@date 03/11/2022*/\\n\\t\\t\\tCALCULATE\\n\\t\\t\\t([Matrícula Equivalente Apresentada Geral], dimFinanciamento[nomeFonteFinanciamentoCorrigido] IN {\"Sem Programa Associado\", \"MedioTec\"})\\n\\t\\t\\t```\\n\\t\\tformatString: 0.000\\n\\t\\tlineageTag: d67dd037-af45-4c8c-b957-a21e69aedb2b\\n\\t\\tchangedProperty = FormatString\\n\\t/// @description Chave técnica do curso\\n\\tcolumn codCurso\\n\\t\\tdataType: int64\\n\\t\\tisHidden\\n\\t\\tformatString: 0\\n\\t\\tlineageTag: b60cedce-2e16-448a-aae8-9357ae50a21c\\n\\t\\tsummarizeBy: sum\\n\\t\\tsourceColumn: codCurso\\n\\t\\tchangedProperty = IsHidden\\n\\t\\tannotation SummarizationSetBy = Automatic\\n\\t/// @description Código da unidade utilizado internamente na disseminação\\n\\tcolumn codUnidade\\n\\t\\tdataType: int64\\n\\t\\tisHidden\\n\\t\\tformatString: 0\\n\\t\\tlineageTag: 7171ce63-0635-40c4-83c1-6f200adfb676\\n\\t\\tsummarizeBy: sum\\n\\t\\tsourceColumn: codUnidade\\n\\t\\tchangedProperty = IsHidden\\n\\t\\tannotation SummarizationSetBy = Automatic\\n\\t/// @description É o agrupamento de ações e das aplicações científicas às atividades humanas de mesma natureza, possuindo um núcleo de saberes comuns, embasados nas mesmas ciências e metodologias. São aplicados na classificação dos cursos da educação profissional, constante dos Catálogos Nacionais. Conforme definidos pelo CNE, são treze: - Ambiente e Saúde; - Controle e Processos industriais; - Desenvolvimento Educacional e Social; - Gestão e Negócios; - Informação e Comunicação; - Infraestrutura; - Militar; - Produção Alimentícia; - Produção Cultural e Design; - Produção Industrial; - Recursos Naturais; - Segurança; - Turismo, - Hospitalidade e lazer. Os Tipos de Curso que não contam com catálogos nacionais foram agregados, por similaridade, aos Eixos Tecnológicos existentes. Para efeito da Plataforma Nilo Peçanha, os cursos de Educação Básica, não profissionais, foram agregados ao Eixo Propedêutico.\\n\\t/// @author dsbr\\n\\t/// @version 1\\n\\t/// @date 03/11/2022\\n\\t/// @panel Faixa Etária; Indice de Verticalização; Dados Gerais; Curso, matrícula e oferta; Situação de matrícula; Classificação Racial, Renda e Sexo; Percentuais Legais;  Oferta de vagas noturnas; Relação inscritos/vagas; Taxa de evasão; Eficiência Acadêmica; Titulação Docente\\n\\tcolumn tipoEixoTecnologico\\n\\t\\tdataType: string\\n\\t\\tlineageTag: d565de8c-699b-497f-a414-fb7fcbc1a4df\\n\\t\\tsummarizeBy: none\\n\\t\\tsourceColumn: tipoEixoTecnologico\\n\\t\\tannotation SummarizationSetBy = Automatic\\n\\t/// @description Modo de desenvolvimento do curso quanto ao acompanhamento das atividades acadêmicas, podendo ser presencial ou a distância.\\n\\t/// @author dsbr\\n\\t/// @version 1\\n\\t/// @date 03/11/2022\\n\\t/// @panel Faixa Etária; Oferta de vagas noturnas; Dados Gerais; Curso, matrícula e oferta; Situação de matrícula; Classificação Racial, Renda e Sexo; Percentuais Legais; Relação inscritos/vagas; Taxa de evasão; Eficiência Acadêmica; Titulação Docente\\n\\tcolumn ModalidadeEnsino\\n\\t\\tdataType: string\\n\\t\\tlineageTag: 1a64db48-1f1c-41e6-915f-1582fb1553f7\\n\\t\\tsummarizeBy: none\\n\\t\\tsourceColumn: ModalidadeEnsino\\n\\t\\tannotation SummarizationSetBy = Automatic\\n\\t/// @description Nome do Conjunto de atividades educativas formais que constroem um perfil de formação, composto por componentes curriculares, agrupados em períodos letivos. Considera-se a diferenciação entre cursos de uma mesma Unidade de Ensino, com mesma denominação, e Tipo de Curso, Tipo de oferta, Modalidade de Ensino e Turno distintos.\\n\\t/// @author dsbr\\n\\t/// @version 1\\n\\t/// @date 03/11/2022\\n\\t/// @panel Faixa Etária; Técnicos-administrativos por Nível\\n\\tcolumn nomeCurso\\n\\t\\tdataType: string\\n\\t\\tlineageTag: a25e0cde-c793-4aef-b615-8028251af7b9\\n\\t\\tsummarizeBy: none\\n\\t\\tsourceColumn: nomeCurso\\n\\t\\tannotation SummarizationSetBy = Automatic\\n\\t/// @description Categorização própria da Plataforma Nilo Peçanha, criada para distinguir cursos de um mesmo Eixo Tecnológico em suas diferentes áreas de concentração.\\n\\t/// \\n\\t/// @author dsbr\\n\\t/// @version 1\\n\\t/// @date 03/11/2022\\n\\t/// @panel Faixa Etária; Dados Gerais; Curso, matrícula e oferta; Situação de matrícula; Classificação Racial, Renda e Sexo; Percentuais Legais;  Oferta de vagas noturnas; Relação inscritos/vagas; Taxa de evasão; Eficiência Acadêmica; Titulação Docente\\n\\tcolumn SubeixoTecnologico\\n\\t\\tdataType: string\\n\\t\\tlineageTag: e30e9720-b8d2-4be8-bf05-5b93283daf22\\n\\t\\tsummarizeBy: none\\n\\t\\tsourceColumn: SubeixoTecnologico\\n\\t\\tannotation SummarizationSetBy = Automatic\\n\\t/// @description Refere-se ao tipo dos cursos pertencentes às instituições da Rede Federal de EPCT, podendo ser: Bacharelado, Mestrado Profissional, Qualificação Profissional (FIC), Técnico, Especialização (Lato Sensu), Doutorado, Licenciatura, Mestrado, Tecnologia, Ensino Médio, Ensino Fundamental II, Ensino Fundamental I, Educação Infantil e Doutorado Profissional.\\n\\t/// \\n\\t/// @author dsbr\\n\\t/// @version 1\\n\\t/// @date 03/11/2022\\n\\t/// @panel Faixa Etária; Técnicos-administrativos por Nível; Dados Gerais; Curso, matrícula e oferta; Situação de matrícula; Classificação Racial, Renda e Sexo; Percentuais Legais;  Oferta de vagas noturnas; Relação inscritos/vagas; Taxa de evasão; Eficiência Acadêmica; Titulação Docente\\n\\tcolumn tipoCurso\\n\\t\\tdataType: string\\n\\t\\tlineageTag: a75c085c-9712-4a09-a940-66a7417cca6f\\n\\t\\tsummarizeBy: none\\n\\t\\tsourceColumn: tipoCurso\\n\\t\\tannotation SummarizationSetBy = Automatic\\n\\t/// @description Categorização transversal utilizada para diferenciar as formas de ofertas dos Cursos Técnicos e de Qualificação Profissional (FIC). Estão previstas as seguintes categorias: Integrado, Subsequente, Concomitante, PROEJA – Concomitante e PROEJA – Integrado.\\n\\t/// \\n\\t/// @author dsbr\\n\\t/// @version 1\\n\\t/// @date 03/11/2022\\n\\t/// @panel Faixa Etária\\n\\tcolumn tipoOferta\\n\\t\\tdataType: string\\n\\t\\tlineageTag: 9d171d7c-d76c-46e9-a437-5aef0ceb983b\\n\\t\\tsummarizeBy: none\\n\\t\\tsourceColumn: tipoOferta\\n\\t\\tannotation SummarizationSetBy = Automatic\\n\\t/// @description Período do dia ou da noite em que o aluno cursa a maior parte das aulas, podendo ser matutino, vespertino, noturno ou integral. Não se aplica aos cursos com Modalidade de Ensino a distância.\\n\\t/// \\n\\t/// @author dsbr\\n\\t/// @version 1\\n\\t/// @date 03/11/2022\\n\\t/// @panel Dados Gerais; Curso, matrícula e oferta; Situação de matrícula; Classificação Racial, Renda e Sexo; Faixa Etária; Percentuais Legais;  Oferta de vagas noturnas; Relação inscritos/vagas; Taxa de evasão; Eficiência Acadêmica; Titulação Docente\\n\\tcolumn turnoCurso\\n\\t\\tdataType: string\\n\\t\\tlineageTag: 838346a3-e7dc-4d83-b0f7-706d9482ebec\\n\\t\\tsummarizeBy: none\\n\\t\\tsourceColumn: turnoCurso\\n\\t\\tannotation SummarizationSetBy = Automatic\\n\\t/// @description Ajusta a carga horária do curso em função da quantidade de aulas práticas que, tecnicamente, demandem menor Relação Matrícula por Professor.\\n\\tcolumn fatorEsforcoCurso\\n\\t\\tdataType: double\\n\\t\\tlineageTag: d042b0b9-3a59-4dfc-a28e-f0b30c1ca7ef\\n\\t\\tsummarizeBy: sum\\n\\t\\tsourceColumn: fatorEsforcoCurso\\n\\t\\tannotation SummarizationSetBy = Automatic\\n\\t\\tannotation PBI_FormatHint = {\"isGeneralNumber\":true}\\n\\t/// @description Carga horária mínima do curso de acordo com o art. 5º, §2º, da Portaria SETEC nº 51, de 21 de novembro de 2018.\\n\\tcolumn CHMinimaCurso\\n\\t\\tdataType: int64\\n\\t\\tformatString: 0\\n\\t\\tlineageTag: 91c2f9d2-c3a5-44b1-b376-98e5e55d7cf6\\n\\t\\tsummarizeBy: sum\\n\\t\\tsourceColumn: CHMinimaCurso\\n\\t\\tannotation SummarizationSetBy = Automatic\\n\\tcolumn skCursoMatricula\\n\\t\\tdataType: int64\\n\\t\\tformatString: 0\\n\\t\\tlineageTag: 275d1c37-5e9a-47e7-b392-ede4fff38847\\n\\t\\tsummarizeBy: none\\n\\t\\tsourceColumn: skCursoMatricula\\n\\t\\tannotation SummarizationSetBy = Automatic\\n\\t/// @description Carga horária do ciclo de matrícula declarada no SISTEC e validada na PNP pela instituição.\\n\\tcolumn CH\\n\\t\\tdataType: int64\\n\\t\\tformatString: 0\\n\\t\\tlineageTag: 347e19f1-4286-469f-a740-61a2a4c6439e\\n\\t\\tsummarizeBy: sum\\n\\t\\tsourceColumn: CH\\n\\t\\tannotation SummarizationSetBy = Automatic\\n\\t/// @description Carga horária mínima regulamentada do curso\\n\\tcolumn CHMR =\\n\\t\\t\\tSWITCH (\\n\\t\\t\\t    [tipoCurso],\\n\\t\\t\\t    \"Técnico\",\\n\\t\\t\\t        IF (\\n\\t\\t\\t            [tipoOferta] = \"PROEJA - Integrado\",\\n\\t\\t\\t            2400,\\n\\t\\t\\t            IF (\\n\\t\\t\\t                [tipoOferta] = \"Integrado\",\\n\\t\\t\\t                SWITCH (\\n\\t\\t\\t                    [CHMinimaCurso],\\n\\t\\t\\t                    800, 3000,\\n\\t\\t\\t                    1000, 3100,\\n\\t\\t\\t                    1200, 3200\\n\\t\\t\\t                ),\\n\\t\\t\\t                [CHMinimaCurso]\\n\\t\\t\\t            )\\n\\t\\t\\t        ),\\n\\t\\t\\t    \"Qualificação Profissional (FIC)\", [CH],\\n\\t\\t\\t    \"Ensino Fundamental I\", 4000,\\n\\t\\t\\t    \"Ensino Fundamental II\", 3200,\\n\\t\\t\\t    \"Educação Infantil\", 2400,\\n\\t\\t\\t    [CHMinimaCurso]\\n\\t\\t\\t)\\n\\t\\tdataType: int64\\n\\t\\tformatString: 0\\n\\t\\tdisplayFolder: Percentuais Legais\\n\\t\\tlineageTag: 8a1b00fc-d957-43cd-b399-4457e986c04a\\n\\t\\tsummarizeBy: sum\\n\\t\\tisDataTypeInferred\\n\\t\\tannotation SummarizationSetBy = Automatic\\n\\t/// @description Fator de Equiparação de Carga Horária - Permite a equiparação de cursos com durações distintas, sendo calculado pela divisão da carga horária anual do curso por oitocentas horas. A carga  horária anual do curso deve considerar a carga horária mínima  regulamentada e a duração do ciclo do curso, em anos, definido no projeto pedagógico\\n\\tcolumn FECH =\\n\\t\\t\\tIF (\\n\\t\\t\\t    [tipoCurso] = \"Qualificação Profissional (FIC)\",\\n\\t\\t\\t    [CHMR] / 800,\\n\\t\\t\\t    1\\n\\t\\t\\t)\\n\\t\\tdataType: double\\n\\t\\tdisplayFolder: Percentuais Legais\\n\\t\\tlineageTag: 39fc567a-4807-4331-b8a7-2c19b90914f0\\n\\t\\tsummarizeBy: sum\\n\\t\\tisDataTypeInferred\\n\\t\\tannotation SummarizationSetBy = Automatic\\n\\t\\tannotation PBI_FormatHint = {\"isGeneralNumber\":true}\\n\\t/// @description Nível do curso. Agregação de tipo de curso (exemplo: básico, técnico, etc.)\\n\\tcolumn NivelCurso\\n\\t\\tdataType: string\\n\\t\\tlineageTag: 99a01132-a402-44b7-90e4-0d3d1b30d726\\n\\t\\tsummarizeBy: none\\n\\t\\tsourceColumn: NivelCurso\\n\\t\\tannotation SummarizationSetBy = Automatic\\n\\t/// @description Campo de ordenação do nível de curso\\n\\tcolumn OrdemNivelCurso\\n\\t\\tdataType: string\\n\\t\\tlineageTag: a0b433d7-d74e-48fb-a2f2-4fbc27472450\\n\\t\\tsummarizeBy: none\\n\\t\\tsourceColumn: OrdemNivelCurso\\n\\t\\tannotation SummarizationSetBy = Automatic\\n\\tpartition dimCurso-9656090d-95e9-402e-a238-20bb37c17853 = m\\n\\t\\tmode: import\\n\\t\\tqueryGroup: \\'Modelo PNP\\\\Dimensões\\'\\n\\t\\tsource =\\n\\t\\t\\t\\tlet\\n\\t\\t\\t\\t    Fonte = Csv.Document(Binary.Decompress(Web.Contents(AWS&\"dimCurso.csv.gz\"),Compression.GZip),[Delimiter=\";\", Columns=15, Encoding=1252, QuoteStyle=QuoteStyle.None]),\\n\\t\\t\\t\\t    #\"Cabeçalhos Promovidos\" = Table.PromoteHeaders(Fonte, [PromoteAllScalars=true]),\\n\\t\\t\\t\\t    #\"Tipo Alterado\" = Table.TransformColumnTypes(#\"Cabeçalhos Promovidos\",{{\"codCurso\", Int64.Type}, {\"codUnidade\", Int64.Type}, {\"tipoEixoTecnologico\", type text}, {\"ModalidadeEnsino\", type text}, {\"nomeCurso\", type text}, {\"SubeixoTecnologico\", type text}, {\"tipoCurso\", type text}, {\"tipoOferta\", type text}, {\"turnoCurso\", type text}, {\"CHMinimaCurso\", Int64.Type}, {\"fatorEsforcoCurso\", type number}, {\"skCursoMatricula\", Int64.Type}, {\"CH\", Int64.Type}})\\n\\t\\t\\t\\tin\\n\\t\\t\\t\\t    #\"Tipo Alterado\"\\n\\tannotation PBI_ResultType = Table']"
      ]
     },
     "execution_count": 36,
     "metadata": {},
     "output_type": "execute_result"
    }
   ],
   "source": [
    "parsed_data"
   ]
  },
  {
   "cell_type": "code",
   "execution_count": null,
   "metadata": {},
   "outputs": [],
   "source": []
  }
 ],
 "metadata": {
  "kernelspec": {
   "display_name": "base",
   "language": "python",
   "name": "python3"
  },
  "language_info": {
   "codemirror_mode": {
    "name": "ipython",
    "version": 3
   },
   "file_extension": ".py",
   "mimetype": "text/x-python",
   "name": "python",
   "nbconvert_exporter": "python",
   "pygments_lexer": "ipython3",
   "version": "3.10.9"
  }
 },
 "nbformat": 4,
 "nbformat_minor": 2
}
